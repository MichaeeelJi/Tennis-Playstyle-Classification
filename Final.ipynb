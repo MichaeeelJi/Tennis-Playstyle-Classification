{
  "nbformat": 4,
  "nbformat_minor": 0,
  "metadata": {
    "colab": {
      "provenance": []
    },
    "kernelspec": {
      "name": "python3",
      "display_name": "Python 3"
    },
    "language_info": {
      "name": "python"
    }
  },
  "cells": [
    {
      "cell_type": "code",
      "source": [
        "from google.colab import drive\n",
        "import joblib\n",
        "import pandas as pd\n",
        "import matplotlib.pyplot as plt\n",
        "import numpy as np\n",
        "import plotly.graph_objects as go"
      ],
      "metadata": {
        "id": "dRZnsZyH6ZHE"
      },
      "execution_count": 4,
      "outputs": []
    },
    {
      "cell_type": "code",
      "execution_count": 5,
      "metadata": {
        "colab": {
          "base_uri": "https://localhost:8080/"
        },
        "id": "9P_nSZ-SDgwO",
        "outputId": "56a29a37-fbd3-4623-a188-33c7a6f66d05"
      },
      "outputs": [
        {
          "output_type": "stream",
          "name": "stdout",
          "text": [
            "Drive already mounted at /content/drive; to attempt to forcibly remount, call drive.mount(\"/content/drive\", force_remount=True).\n"
          ]
        }
      ],
      "source": [
        "# Mount Google Drive (if the model is saved there)\n",
        "drive.mount('/content/drive')"
      ]
    },
    {
      "cell_type": "code",
      "source": [
        "csv_path = \"/content/drive/My Drive/FIT/Work_Space_Shot_Quality_Metric/Shot_Visuals_SpencerJohnson_GustafStrom.csv\"\n",
        "point_df_eda = pd.read_csv(csv_path)\n",
        "player_1 = \"Spencer Johnson\"\n",
        "player_2 = \"Gustaf Strom\"\n",
        "player_1_dom_hand = \"left\"\n",
        "player_2_dom_hand = \"right\""
      ],
      "metadata": {
        "id": "A6FV8MtKzCBg"
      },
      "execution_count": 6,
      "outputs": []
    },
    {
      "cell_type": "code",
      "source": [
        "# isError - Jimmy\n",
        "def isError(df):\n",
        "  error_columns = ['isErrorWideR', 'isErrorWideL', 'isErrorNet', 'isErrorLong']\n",
        "  df_error = df[error_columns]\n",
        "\n",
        "  # Create a new column \"isError\" with initial empty values\n",
        "  df['isError'] = None\n",
        "\n",
        "  # For each row in filtered_df, if any column has value 1, set the value of \"isError\" column to 1\n",
        "  df.loc[df_error.any(axis=1), 'isError'] = 1\n",
        "\n",
        "isError(point_df_eda)\n",
        "print(point_df_eda['isError'])"
      ],
      "metadata": {
        "colab": {
          "base_uri": "https://localhost:8080/"
        },
        "id": "ZLE0nvfS8UVv",
        "outputId": "48679cf4-5952-4aaf-a479-e096da3dbab7"
      },
      "execution_count": 7,
      "outputs": [
        {
          "output_type": "stream",
          "name": "stdout",
          "text": [
            "0      None\n",
            "1         1\n",
            "2      None\n",
            "3         1\n",
            "4      None\n",
            "       ... \n",
            "394    None\n",
            "395       1\n",
            "396    None\n",
            "397    None\n",
            "398    None\n",
            "Name: isError, Length: 399, dtype: object\n"
          ]
        }
      ]
    },
    {
      "cell_type": "code",
      "source": [
        "# Number of shots hit by a player in the match - Jimmy\n",
        "def total_shots(df, player):\n",
        "    df_as_server = df[df[\"serverName\"] == player]\n",
        "    df_as_returner = df[df[\"serverName\"] != player]\n",
        "\n",
        "    total_shots = 0\n",
        "    for i in range(len(df_as_server)):\n",
        "      if (df_as_server.iloc[i]['shotInRally'] % 2 == 1):\n",
        "        total_shots += 1\n",
        "    for i in range(len(df_as_returner)):\n",
        "      if (df_as_returner.iloc[i]['shotInRally'] % 2 == 0):\n",
        "        total_shots += 1\n",
        "\n",
        "    return total_shots\n",
        "\n",
        "print(f\"Total shots by {player_1} is {total_shots(df=point_df_eda, player=player_1)}.\")"
      ],
      "metadata": {
        "colab": {
          "base_uri": "https://localhost:8080/"
        },
        "id": "rqOgFm-LnNep",
        "outputId": "f38de2be-e967-4946-ae19-964f81324090"
      },
      "execution_count": 8,
      "outputs": [
        {
          "output_type": "stream",
          "name": "stdout",
          "text": [
            "Total shots by Spencer Johnson is 199.\n"
          ]
        }
      ]
    },
    {
      "cell_type": "code",
      "source": [
        "def total_points(df):\n",
        "  return df['pointNumber'].max()\n",
        "\n",
        "print(f\"Total points of the match is {total_points(point_df_eda)}.\")"
      ],
      "metadata": {
        "colab": {
          "base_uri": "https://localhost:8080/"
        },
        "id": "gPtat7Zj9pE2",
        "outputId": "4a59fb12-16d9-482e-bef7-83aa42451728"
      },
      "execution_count": 9,
      "outputs": [
        {
          "output_type": "stream",
          "name": "stdout",
          "text": [
            "Total points of the match is 82.\n"
          ]
        }
      ]
    },
    {
      "cell_type": "code",
      "source": [
        "def total_points_won(df, player):\n",
        "    df_as_server = df[df[\"serverName\"] == player]\n",
        "    df_as_returner = df[df[\"serverName\"] != player]\n",
        "\n",
        "    win_as_server_count = 0\n",
        "    win_as_returner_count = 0\n",
        "\n",
        "    for i in range(0, df_as_server.shape[0]):\n",
        "        if (df_as_server.iloc[i]['isPointEnd'] == 1):\n",
        "            if (df_as_server.iloc[i][\"shotInRally\"] % 2 == 1 and\n",
        "                (df_as_server.iloc[i]['isWinner'] == 1 or\n",
        "                 df_as_server.iloc[i]['isAce'] == 1)):\n",
        "                win_as_server_count += 1\n",
        "            if (df_as_server.iloc[i][\"shotInRally\"] % 2 == 0 and\n",
        "                df_as_server.iloc[i]['isError'] == 1):\n",
        "                win_as_server_count += 1\n",
        "\n",
        "    for j in range(0, df_as_returner.shape[0]):\n",
        "        if df_as_returner.iloc[j]['isPointEnd'] == 1:\n",
        "            if (df_as_returner.iloc[j][\"shotInRally\"] % 2 == 0 and\n",
        "                df_as_returner.iloc[j]['isWinner'] == 1):\n",
        "                win_as_returner_count += 1\n",
        "            if (df_as_returner.iloc[j][\"shotInRally\"] % 2 == 1 and\n",
        "                df_as_returner.iloc[j]['isError'] == 1):\n",
        "                win_as_returner_count += 1\n",
        "\n",
        "    total = win_as_server_count + win_as_returner_count\n",
        "    return total\n",
        "\n",
        "print(f\"Total points won by {player_1} is : {total_points_won(point_df_eda, player_1)}.\")"
      ],
      "metadata": {
        "colab": {
          "base_uri": "https://localhost:8080/"
        },
        "id": "Hzvjj-TyHw5c",
        "outputId": "57a836b6-7bc4-4ccd-ae16-3a27d64874a6"
      },
      "execution_count": 10,
      "outputs": [
        {
          "output_type": "stream",
          "name": "stdout",
          "text": [
            "Total points won by Spencer Johnson is : 54.\n"
          ]
        }
      ]
    },
    {
      "cell_type": "code",
      "source": [
        "def shotType_direct_win_per(df, player, shot_type):\n",
        "    sType = shot_type.lower()\n",
        "\n",
        "    # Filter for the player's data\n",
        "    df_as_server = df[df[\"serverName\"] == player]\n",
        "    df_as_returner = df[df[\"serverName\"] != player]\n",
        "\n",
        "    # Vectorized filtering for winners\n",
        "    df_as_server_win = df_as_server[\n",
        "        (df_as_server['shotInRally'] % 2 == 1) &\n",
        "        (df_as_server['shotInRally'] != 1) &\n",
        "        (df_as_server['shotFhBh'].str.lower() == sType) &\n",
        "        (df_as_server['isVolley'] != 1) &\n",
        "        (df_as_server['isApproach'] != 1) &\n",
        "        (df_as_server['isOverhead'] != 1) &\n",
        "        (df_as_server['isWinner'] == 1)\n",
        "    ]\n",
        "    df_as_returner_win = df_as_returner[\n",
        "        (df_as_returner['shotInRally'] % 2 == 1) &\n",
        "        (df_as_returner['shotFhBh'].str.lower() == sType) &\n",
        "        (df_as_returner['isVolley'] != 1) &\n",
        "        (df_as_returner['isApproach'] != 1) &\n",
        "        (df_as_returner['isOverhead'] != 1) &\n",
        "        (df_as_returner['isWinner'] == 1)\n",
        "    ]\n",
        "\n",
        "    # Calculate total winning points\n",
        "    winning_points = df_as_server_win.shape[0] + df_as_returner_win.shape[0]\n",
        "\n",
        "    # Calculate percentage\n",
        "    total_pts = total_points(df)\n",
        "    if total_pts == 0:\n",
        "        return 0\n",
        "    return round(100 * winning_points / total_pts, 2)\n",
        "\n",
        "# Example usage\n",
        "print(f\"Forehand winner percentage of {player_1} is : {shotType_direct_win_per(point_df_eda, player_1, 'forehand')}%.\")\n",
        "print(f\"Backhand winner percentage of {player_1} is : {shotType_direct_win_per(point_df_eda, player_1, 'backhand')}%.\")"
      ],
      "metadata": {
        "colab": {
          "base_uri": "https://localhost:8080/"
        },
        "id": "K-Y90_9VCWp_",
        "outputId": "abf31fe3-7dcd-4d05-d9eb-554a01dd7a12"
      },
      "execution_count": 11,
      "outputs": [
        {
          "output_type": "stream",
          "name": "stdout",
          "text": [
            "Forehand winner percentage of Spencer Johnson is : 6.1%.\n",
            "Backhand winner percentage of Spencer Johnson is : 4.88%.\n"
          ]
        }
      ]
    },
    {
      "cell_type": "code",
      "source": [
        "# Volley points number - Jimmy\n",
        "def volley_point_num(df, player):\n",
        "    df_as_server = df[df[\"serverName\"] == player]\n",
        "    df_as_returner = df[df[\"serverName\"] != player]\n",
        "\n",
        "    total_volley_point = 0\n",
        "    for i in range(len(df_as_server)):\n",
        "      if df_as_server.iloc[i]['isPointStart'] == 1:\n",
        "        j = i\n",
        "        while j <= len(df_as_server):\n",
        "          if df_as_server.iloc[j]['isPointEnd'] == 1:\n",
        "            break\n",
        "          j += 1\n",
        "        for k in range(i, j+1):\n",
        "          if (df_as_server.iloc[k]['isVolley'] == 1) and (df_as_server.iloc[k]['shotInRally'] % 2 == 1):\n",
        "            total_volley_point += 1\n",
        "            break\n",
        "    for i in range(len(df_as_returner)):\n",
        "      if df_as_returner.iloc[i]['isPointStart'] == 1:\n",
        "        j = i\n",
        "        while j <= len(df_as_returner):\n",
        "          if df_as_returner.iloc[j]['isPointEnd'] == 1:\n",
        "            break\n",
        "          j += 1\n",
        "        for k in range(i, j+1):\n",
        "          if (df_as_returner.iloc[k]['isVolley'] == 1) and (df_as_returner.iloc[k]['shotInRally'] % 2 == 0):\n",
        "            total_volley_point += 1\n",
        "            break\n",
        "\n",
        "    return total_volley_point\n",
        "\n",
        "print(f\"The number of volley points by {player_1} is : {volley_point_num(point_df_eda, player_1)}.\")"
      ],
      "metadata": {
        "colab": {
          "base_uri": "https://localhost:8080/"
        },
        "id": "2mWcNPu6Lcs0",
        "outputId": "b4f62f76-016f-49b5-ecc9-e2452925ef7b"
      },
      "execution_count": 12,
      "outputs": [
        {
          "output_type": "stream",
          "name": "stdout",
          "text": [
            "The number of volley points by Spencer Johnson is : 3.\n"
          ]
        }
      ]
    },
    {
      "cell_type": "code",
      "source": [
        "# Approach points number - Jimmy\n",
        "def approach_point_num(df, player):\n",
        "    df_as_server = df[df[\"serverName\"] == player]\n",
        "    df_as_returner = df[df[\"serverName\"] != player]\n",
        "\n",
        "    total_approach_point = 0\n",
        "    for i in range(len(df_as_server)):\n",
        "      if df_as_server.iloc[i]['isPointStart'] == 1:\n",
        "        j = i\n",
        "        while j <= len(df_as_server):\n",
        "          if df_as_server.iloc[j]['isPointEnd'] == 1:\n",
        "            break\n",
        "          j += 1\n",
        "        for k in range(i, j+1):\n",
        "          if (df_as_server.iloc[k]['isApproach'] == 1) and (df_as_server.iloc[k]['shotInRally'] % 2 == 1):\n",
        "            total_approach_point += 1\n",
        "            break\n",
        "    for i in range(len(df_as_returner)):\n",
        "      if df_as_returner.iloc[i]['isPointStart'] == 1:\n",
        "        j = i\n",
        "        while j <= len(df_as_returner):\n",
        "          if df_as_returner.iloc[j]['isPointEnd'] == 1:\n",
        "            break\n",
        "          j += 1\n",
        "        for k in range(i, j+1):\n",
        "          if (df_as_returner.iloc[k]['isApproach'] == 1) and (df_as_returner.iloc[k]['shotInRally'] % 2 == 0):\n",
        "            total_approach_point += 1\n",
        "            break\n",
        "\n",
        "    return total_approach_point\n",
        "\n",
        "print(f\"The number of volley points by {player_1} is : {approach_point_num(point_df_eda, player_1)}.\")"
      ],
      "metadata": {
        "colab": {
          "base_uri": "https://localhost:8080/"
        },
        "id": "MFjN9ZrTLtV-",
        "outputId": "dbde911e-9e97-4c6b-c2eb-eca79fb1e271"
      },
      "execution_count": 13,
      "outputs": [
        {
          "output_type": "stream",
          "name": "stdout",
          "text": [
            "The number of volley points by Spencer Johnson is : 4.\n"
          ]
        }
      ]
    },
    {
      "cell_type": "code",
      "source": [
        "# Overhead points number - Jimmy\n",
        "def overhead_point_num(df, player):\n",
        "    df_as_server = df[df[\"serverName\"] == player]\n",
        "    df_as_returner = df[df[\"serverName\"] != player]\n",
        "\n",
        "    total_overhead_point = 0\n",
        "    for i in range(len(df_as_server)):\n",
        "      if df_as_server.iloc[i]['isPointStart'] == 1:\n",
        "        j = i\n",
        "        while j <= len(df_as_server):\n",
        "          if df_as_server.iloc[j]['isPointEnd'] == 1:\n",
        "            break\n",
        "          j += 1\n",
        "        for k in range(i, j+1):\n",
        "          if (df_as_server.iloc[k]['isOverhead'] == 1) and (df_as_server.iloc[k]['shotInRally'] % 2 == 1):\n",
        "            total_overhead_point += 1\n",
        "            break\n",
        "    for i in range(len(df_as_returner)):\n",
        "      if df_as_returner.iloc[i]['isPointStart'] == 1:\n",
        "        j = i\n",
        "        while j <= len(df_as_returner):\n",
        "          if df_as_returner.iloc[j]['isPointEnd'] == 1:\n",
        "            break\n",
        "          j += 1\n",
        "        for k in range(i, j+1):\n",
        "          if (df_as_returner.iloc[k]['isOverhead'] == 1) and (df_as_returner.iloc[k]['shotInRally'] % 2 == 0):\n",
        "            total_overhead_point += 1\n",
        "            break\n",
        "\n",
        "    return total_overhead_point\n",
        "\n",
        "print(f\"The number of overhead points by {player_1} is : {overhead_point_num(point_df_eda, player_1)}.\")"
      ],
      "metadata": {
        "colab": {
          "base_uri": "https://localhost:8080/"
        },
        "id": "leArDtLcLwai",
        "outputId": "e544c94e-8fdf-4d37-e222-2a870433f306"
      },
      "execution_count": 14,
      "outputs": [
        {
          "output_type": "stream",
          "name": "stdout",
          "text": [
            "The number of overhead points by Spencer Johnson is : 0.\n"
          ]
        }
      ]
    },
    {
      "cell_type": "code",
      "source": [
        "def total_net_points(df, player):\n",
        "  return volley_point_num(df,player) + approach_point_num(df,player) + overhead_point_num(df,player)\n",
        "\n",
        "print(f\"The number of net points by {player_1} is : {total_net_points(point_df_eda, player_1)}.\")"
      ],
      "metadata": {
        "colab": {
          "base_uri": "https://localhost:8080/"
        },
        "id": "JvIDWfyBmuqC",
        "outputId": "d7b9235b-8d52-449f-c00e-f83fa6c16550"
      },
      "execution_count": 15,
      "outputs": [
        {
          "output_type": "stream",
          "name": "stdout",
          "text": [
            "The number of net points by Spencer Johnson is : 7.\n"
          ]
        }
      ]
    },
    {
      "cell_type": "code",
      "source": [
        "def net_per(df,player):\n",
        "  return round(100 * total_net_points(df, player) / total_points(df), 2)\n",
        "\n",
        "print(f\"The percentage of net points by {player_1} is : {net_per(point_df_eda, player_1)}%.\")"
      ],
      "metadata": {
        "colab": {
          "base_uri": "https://localhost:8080/"
        },
        "id": "-Q3bNcysI45z",
        "outputId": "ccaf9134-1130-4e47-da2e-337ec3209c55"
      },
      "execution_count": 16,
      "outputs": [
        {
          "output_type": "stream",
          "name": "stdout",
          "text": [
            "The percentage of net points by Spencer Johnson is : 8.54%.\n"
          ]
        }
      ]
    },
    {
      "cell_type": "code",
      "source": [
        "def uniqueShotType_direct_win_num(df, player, unique_shot_type):\n",
        "    col = \"is\" + (unique_shot_type.lower()).capitalize()\n",
        "    shots = total_shots(df,player)\n",
        "    winning_points = 0\n",
        "\n",
        "    df_as_server = df[df[\"serverName\"] == player]\n",
        "    df_as_returner = df[df[\"serverName\"] != player]\n",
        "\n",
        "\n",
        "    df_as_server_win = df_as_server[(df_as_server[\"shotInRally\"] % 2 == 1) &\n",
        "                                    (df_as_server[col] == 1)]\n",
        "    df_as_returner_win = df_as_returner[(df_as_returner[\"shotInRally\"] % 2 == 0) &\n",
        "                                        (df_as_returner[col] == 1)]\n",
        "    winning_points += df_as_server_win[\"isWinner\"].count() + df_as_returner_win[\"isWinner\"].count()\n",
        "\n",
        "    return winning_points\n",
        "\n",
        "print(f\"The number of volley winner by {player_1} is {uniqueShotType_direct_win_num(point_df_eda, player_1, 'volley')}.\")\n",
        "print(f\"The number of approach winner by {player_1} is {uniqueShotType_direct_win_num(point_df_eda, player_1, 'approach')}.\")\n",
        "print(f\"The number of overhead winner by {player_1} is {uniqueShotType_direct_win_num(point_df_eda, player_1, 'overhead')}.\")"
      ],
      "metadata": {
        "colab": {
          "base_uri": "https://localhost:8080/"
        },
        "id": "WZHT3R6Sku3Z",
        "outputId": "36d60f61-533b-446d-860e-83f488b02d19"
      },
      "execution_count": 17,
      "outputs": [
        {
          "output_type": "stream",
          "name": "stdout",
          "text": [
            "The number of volley winner by Spencer Johnson is 1.\n",
            "The number of approach winner by Spencer Johnson is 1.\n",
            "The number of overhead winner by Spencer Johnson is 0.\n"
          ]
        }
      ]
    },
    {
      "cell_type": "code",
      "source": [
        "def total_net_points_won(df, player):\n",
        "    df_as_server = df[df[\"serverName\"] == player]\n",
        "    df_as_returner = df[df[\"serverName\"] != player]\n",
        "\n",
        "    total_net_point_won = 0\n",
        "    for i in range(len(df_as_server)):\n",
        "      is_net_point = False\n",
        "      is_point_won = False\n",
        "      if df_as_server.iloc[i]['isPointStart'] == 1:\n",
        "        j = i\n",
        "        while j <= len(df_as_server):\n",
        "          if df_as_server.iloc[j]['isPointEnd'] == 1:\n",
        "            break\n",
        "          j += 1\n",
        "        for k in range(i, j+1):\n",
        "          if (df_as_server.iloc[k]['isApproach'] == 1 or\n",
        "              df_as_server.iloc[k]['isVolley'] == 1 or\n",
        "              df_as_server.iloc[k]['isOverhead'] == 1) and (df_as_server.iloc[k]['shotInRally'] % 2 == 1):\n",
        "            is_net_point = True\n",
        "            break\n",
        "        if ((df_as_server.iloc[j]['shotInRally'] % 2 == 1 and df_as_server.iloc[j]['isWinner'] == 1) or\n",
        "          (df_as_server.iloc[j]['shotInRally'] % 2 == 0 and df_as_server.iloc[j]['isError'] == 1)):\n",
        "          is_point_won = True\n",
        "        if is_net_point and is_point_won:\n",
        "          total_net_point_won += 1\n",
        "    for i in range(len(df_as_returner)):\n",
        "      is_net_point = False\n",
        "      is_point_won = False\n",
        "      if df_as_returner.iloc[i]['isPointStart'] == 1:\n",
        "        j = i\n",
        "        while j <= len(df_as_returner):\n",
        "          if df_as_returner.iloc[j]['isPointEnd'] == 1:\n",
        "            break\n",
        "          j += 1\n",
        "        for k in range(i, j+1):\n",
        "          if (df_as_returner.iloc[k]['isApproach'] == 1 or\n",
        "              df_as_returner.iloc[k]['isVolley'] == 1 or\n",
        "              df_as_returner.iloc[k]['isOverhead'] == 1) and (df_as_returner.iloc[k]['shotInRally'] % 2 == 0):\n",
        "            is_net_point = True\n",
        "            break\n",
        "        if ((df_as_returner.iloc[j]['shotInRally'] % 2 == 0 and df_as_returner.iloc[j]['isWinner'] == 1) or\n",
        "          (df_as_returner.iloc[j]['shotInRally'] % 2 == 1 and df_as_returner.iloc[j]['isError'] == 1)):\n",
        "          is_point_won = True\n",
        "        if is_net_point and is_point_won:\n",
        "          total_net_point_won += 1\n",
        "\n",
        "    return total_net_point_won\n",
        "\n",
        "print(f\"Total net points won by {player_1} is : {total_net_points_won(point_df_eda, player_1)}\")"
      ],
      "metadata": {
        "colab": {
          "base_uri": "https://localhost:8080/"
        },
        "id": "vzdY-k7SOc0x",
        "outputId": "fef55c3c-463a-4bb7-817b-9337dee1bfb8"
      },
      "execution_count": 18,
      "outputs": [
        {
          "output_type": "stream",
          "name": "stdout",
          "text": [
            "Total net points won by Spencer Johnson is : 4\n"
          ]
        }
      ]
    },
    {
      "cell_type": "code",
      "source": [
        "def net_direct_win_per(df, player):\n",
        "  net_direct_win_per = (uniqueShotType_direct_win_num(df, player, 'volley') + uniqueShotType_direct_win_num(df, player, 'approach') +\n",
        "          uniqueShotType_direct_win_num(df, player, 'overhead')) / total_net_points_won(df, player)\n",
        "  return round(100 * net_direct_win_per, 2)\n",
        "\n",
        "print(f\"Net winner percentage of {player_1} is : {net_direct_win_per(point_df_eda, player_1)}%.\")"
      ],
      "metadata": {
        "id": "RbidNu2qlhid",
        "colab": {
          "base_uri": "https://localhost:8080/"
        },
        "outputId": "4bac3a2a-05f9-48b8-94ae-f3074dff1a14"
      },
      "execution_count": 19,
      "outputs": [
        {
          "output_type": "stream",
          "name": "stdout",
          "text": [
            "Net winner percentage of Spencer Johnson is : 50.0%.\n"
          ]
        }
      ]
    },
    {
      "cell_type": "code",
      "source": [
        "def net_point_winning_per(df, player):\n",
        "  return round(100 * total_net_points_won(df, player) / total_points(df), 2)\n",
        "\n",
        "print(f\"Net point winning percentage of {player_1} is : {net_point_winning_per(point_df_eda, player_1)}%.\")"
      ],
      "metadata": {
        "colab": {
          "base_uri": "https://localhost:8080/"
        },
        "id": "z2PGk_xoiupb",
        "outputId": "dea847c5-dc94-4f6d-83d2-07d712210aff"
      },
      "execution_count": 20,
      "outputs": [
        {
          "output_type": "stream",
          "name": "stdout",
          "text": [
            "Net point winning percentage of Spencer Johnson is : 4.88%.\n"
          ]
        }
      ]
    },
    {
      "cell_type": "code",
      "source": [
        "def net_point_error_per(df, player):\n",
        "    df_as_server = df[df[\"serverName\"] == player]\n",
        "    df_as_returner = df[df[\"serverName\"] != player]\n",
        "\n",
        "    total_net_point_error = 0\n",
        "    for i in range(len(df_as_server)):\n",
        "      if (df_as_server.iloc[i]['isPointEnd'] == 1 and\n",
        "      df_as_server.iloc[i]['shotInRally'] % 2 == 1 and\n",
        "      (df_as_server.iloc[i]['isVolley'] == 1 or\n",
        "      df_as_server.iloc[i]['isApproach'] == 1 or\n",
        "      df_as_server.iloc[i]['isOverhead'] == 1) and\n",
        "      df_as_server.iloc[i]['isError'] == 1):\n",
        "        total_net_point_error += 1\n",
        "      elif (df_as_server.iloc[i]['isPointEnd'] == 1 and\n",
        "      df_as_server.iloc[i-1]['shotInRally'] % 2 == 1 and\n",
        "      (df_as_server.iloc[i-1]['isVolley'] == 1 or\n",
        "      df_as_server.iloc[i-1]['isApproach'] == 1 or\n",
        "      df_as_server.iloc[i-1]['isOverhead'] == 1) and\n",
        "      df_as_server.iloc[i]['isWinner'] == 1):\n",
        "        total_net_point_error += 1\n",
        "    for i in range(len(df_as_returner)):\n",
        "      if (df_as_returner.iloc[i]['isPointEnd'] == 1 and\n",
        "      df_as_returner.iloc[i]['shotInRally'] % 2 == 1 and\n",
        "      (df_as_returner.iloc[i]['isVolley'] == 1 or\n",
        "      df_as_returner.iloc[i]['isApproach'] == 1 or\n",
        "      df_as_returner.iloc[i]['isOverhead'] == 1) and\n",
        "      df_as_returner.iloc[i]['isError'] == 1):\n",
        "        total_net_point_error += 1\n",
        "      elif (df_as_returner.iloc[i]['isPointEnd'] == 1 and\n",
        "      df_as_returner.iloc[i-1]['shotInRally'] % 2 == 1 and\n",
        "      (df_as_returner.iloc[i-1]['isVolley'] == 1 or\n",
        "      df_as_returner.iloc[i-1]['isApproach'] == 1 or\n",
        "      df_as_returner.iloc[i-1]['isOverhead'] == 1) and\n",
        "      df_as_returner.iloc[i]['isWinner'] == 1):\n",
        "        total_net_point_error += 1\n",
        "\n",
        "    return round(100 * total_net_point_error / total_net_points(df, player), 2)\n",
        "\n",
        "print(f\"The net point error percentage of {player_1} is {net_point_error_per(point_df_eda, player_1)}%.\")"
      ],
      "metadata": {
        "colab": {
          "base_uri": "https://localhost:8080/"
        },
        "id": "ve5FcvgmySDq",
        "outputId": "da78e995-8cb3-4305-e19d-97b85fc58b9b"
      },
      "execution_count": 21,
      "outputs": [
        {
          "output_type": "stream",
          "name": "stdout",
          "text": [
            "The net point error percentage of Spencer Johnson is 28.57%.\n"
          ]
        }
      ]
    },
    {
      "cell_type": "code",
      "source": [
        "# Calculate the passing per for player_1\n",
        "def passing_per(df, player_1, player_2):\n",
        "    df_as_server = df[df[\"serverName\"] == player_1]\n",
        "    df_as_returner = df[df[\"serverName\"] != player_1]\n",
        "\n",
        "    total_passing = 0\n",
        "    for i in range(len(df_as_server)):\n",
        "      if (df_as_server.iloc[i]['isPointEnd'] == 1 and\n",
        "      df_as_server.iloc[i]['shotInRally'] % 2 == 1 and\n",
        "      (df_as_server.iloc[i-1]['isVolley'] == 1 or\n",
        "      df_as_server.iloc[i-1]['isApproach'] == 1 or\n",
        "      df_as_server.iloc[i-1]['isOverhead'] == 1) and\n",
        "      df_as_server.iloc[i]['isWinner']):\n",
        "        total_passing += 1\n",
        "    for i in range(len(df_as_returner)):\n",
        "      if (df_as_returner.iloc[i]['isPointEnd'] == 1 and\n",
        "      df_as_returner.iloc[i]['shotInRally'] % 2 == 0 and\n",
        "      (df_as_returner.iloc[i-1]['isVolley'] == 1 or\n",
        "      df_as_returner.iloc[i-1]['isApproach'] == 1 or\n",
        "      df_as_returner.iloc[i-1]['isOverhead'] == 1) and\n",
        "      df_as_returner.iloc[i]['isWinner']):\n",
        "        total_passing += 1\n",
        "\n",
        "    return round(100 * total_passing / total_net_points(df, player_2), 2)\n",
        "\n",
        "print(f\"The net point error percentage of {player_1} is {passing_per(point_df_eda, player_1, player_2)}%.\")"
      ],
      "metadata": {
        "id": "w5jxg91Fadej",
        "colab": {
          "base_uri": "https://localhost:8080/"
        },
        "outputId": "c4a5fffb-8b18-4e74-869d-6cc551b5249c"
      },
      "execution_count": 22,
      "outputs": [
        {
          "output_type": "stream",
          "name": "stdout",
          "text": [
            "The net point error percentage of Spencer Johnson is 125.0%.\n"
          ]
        }
      ]
    },
    {
      "cell_type": "code",
      "source": [
        "def winner_per(df, player):\n",
        "    df_as_server = df[df[\"serverName\"] == player_1]\n",
        "    df_as_returner = df[df[\"serverName\"] != player_1]\n",
        "\n",
        "    total_winner = 0\n",
        "    for i in range(len(df_as_server)):\n",
        "      if (df_as_server.iloc[i]['isWinner'] == 1 and\n",
        "      df_as_server.iloc[i]['shotInRally'] % 2 == 1):\n",
        "        total_winner += 1\n",
        "    for i in range(len(df_as_returner)):\n",
        "      if (df_as_returner.iloc[i]['isWinner'] == 1 and\n",
        "      df_as_returner.iloc[i]['shotInRally'] % 2 == 0):\n",
        "        total_winner += 1\n",
        "\n",
        "    return round(100 * total_winner / total_points_won(df, player), 2)\n",
        "\n",
        "print(f\"Winner percentage of {player_1} is : {winner_per(point_df_eda, player_1)}%.\")"
      ],
      "metadata": {
        "colab": {
          "base_uri": "https://localhost:8080/"
        },
        "id": "Ob9BMaN5WDO9",
        "outputId": "010e2e09-d376-4659-dc0a-78a7ab424036"
      },
      "execution_count": 23,
      "outputs": [
        {
          "output_type": "stream",
          "name": "stdout",
          "text": [
            "Winner percentage of Spencer Johnson is : 27.78%.\n"
          ]
        }
      ]
    },
    {
      "cell_type": "code",
      "source": [
        "def error_per(df, player):\n",
        "    df_as_server = df[df[\"serverName\"] == player_1]\n",
        "    df_as_returner = df[df[\"serverName\"] != player_1]\n",
        "\n",
        "    total_error = 0\n",
        "    for i in range(len(df_as_server)):\n",
        "      if (df_as_server.iloc[i]['isError'] == 1 and\n",
        "      df_as_server.iloc[i]['shotInRally'] % 2 == 1):\n",
        "        total_error += 1\n",
        "    for i in range(len(df_as_returner)):\n",
        "      if (df_as_returner.iloc[i]['isError'] == 1 and\n",
        "      df_as_returner.iloc[i]['shotInRally'] % 2 == 0):\n",
        "        total_error += 1\n",
        "\n",
        "    return round(100 * total_error / total_points(df), 2)\n",
        "\n",
        "print(f\"Error percentage of {player_1} is : {error_per(point_df_eda, player_1)}%.\")"
      ],
      "metadata": {
        "colab": {
          "base_uri": "https://localhost:8080/"
        },
        "id": "4Q-A9odHiQAj",
        "outputId": "829309f4-d022-4b9a-8d6c-d4e478894ff7"
      },
      "execution_count": 24,
      "outputs": [
        {
          "output_type": "stream",
          "name": "stdout",
          "text": [
            "Error percentage of Spencer Johnson is : 26.83%.\n"
          ]
        }
      ]
    },
    {
      "cell_type": "code",
      "source": [
        "# Total number of serves - Janel\n",
        "def total_serve(df, player):\n",
        "    df_player = df[df[\"serverName\"] == player]\n",
        "    return df_player['firstServeIn'].count() + df_player['secondServeIn'].count()\n",
        "\n",
        "print(f\"Total number of serve of {player_1} is : {total_serve(point_df_eda, player_1)}\")"
      ],
      "metadata": {
        "colab": {
          "base_uri": "https://localhost:8080/"
        },
        "id": "9hk81CE-29Wo",
        "outputId": "f160512c-e4ec-4e7a-ced0-c53aa379531b"
      },
      "execution_count": 25,
      "outputs": [
        {
          "output_type": "stream",
          "name": "stdout",
          "text": [
            "Total number of serve of Spencer Johnson is : 60\n"
          ]
        }
      ]
    },
    {
      "cell_type": "code",
      "source": [
        "def pts_won_lte_3_shots_per(df, player):\n",
        "    df_as_server = df[df[\"serverName\"] == player]\n",
        "    df_as_returner = df[df[\"serverName\"] != player]\n",
        "\n",
        "    win_as_server_count = 0\n",
        "    win_as_returner_count = 0\n",
        "\n",
        "    for i in range(0, df_as_server.shape[0]):\n",
        "        if (df_as_server.iloc[i]['isPointEnd'] == 1):\n",
        "            if (df_as_server.iloc[i][\"shotInRally\"] % 2 == 1 and\n",
        "                df_as_server.iloc[i][\"shotInRally\"] <= 3 and\n",
        "                (df_as_server.iloc[i]['isWinner'] == 1 or\n",
        "                 df_as_server.iloc[i]['isAce'] == 1)):\n",
        "                win_as_server_count += 1\n",
        "            if (df_as_server.iloc[i][\"shotInRally\"] % 2 == 0 and\n",
        "                df_as_server.iloc[i][\"shotInRally\"] <= 3 and\n",
        "                df_as_server.iloc[i]['isError'] == 1):\n",
        "                win_as_server_count += 1\n",
        "\n",
        "    for j in range(0, df_as_returner.shape[0]):\n",
        "        if df_as_returner.iloc[j]['isPointEnd'] == 1:\n",
        "            if (df_as_returner.iloc[j][\"shotInRally\"] % 2 == 0 and\n",
        "                df_as_server.iloc[i][\"shotInRally\"] <= 3 and\n",
        "                df_as_returner.iloc[j]['isWinner'] == 1):\n",
        "                win_as_returner_count += 1\n",
        "            if (df_as_returner.iloc[j][\"shotInRally\"] % 2 == 1 and\n",
        "                df_as_server.iloc[i][\"shotInRally\"] <= 3 and\n",
        "                df_as_returner.iloc[j]['isError'] == 1):\n",
        "                win_as_returner_count += 1\n",
        "\n",
        "    total = win_as_server_count + win_as_returner_count\n",
        "\n",
        "    return round(100 * total / total_serve(df, player), 2)\n",
        "\n",
        "print(f\"The percentage of serve points won within 3 shots by {player_1} is : {pts_won_lte_3_shots_per(point_df_eda, player_1)}%.\")"
      ],
      "metadata": {
        "colab": {
          "base_uri": "https://localhost:8080/"
        },
        "id": "2ccfrlVQsJBX",
        "outputId": "577c6800-8cdb-4145-a260-afc8d5d1b511"
      },
      "execution_count": 26,
      "outputs": [
        {
          "output_type": "stream",
          "name": "stdout",
          "text": [
            "The percentage of serve points won within 3 shots by Spencer Johnson is : 73.33%.\n"
          ]
        }
      ]
    },
    {
      "cell_type": "code",
      "source": [
        "def shots_in_pts_won_per(df, player):\n",
        "    df_as_server = df[df[\"serverName\"] == player]\n",
        "    df_as_returner = df[df[\"serverName\"] != player]\n",
        "\n",
        "    shots_in_won = 0\n",
        "\n",
        "    for i in range(0, df_as_server.shape[0]):\n",
        "        if (df_as_server.iloc[i]['isPointEnd'] == 1):\n",
        "            if (df_as_server.iloc[i][\"shotInRally\"] % 2 == 1 and\n",
        "                (df_as_server.iloc[i]['isWinner'] == 1 or\n",
        "                 df_as_server.iloc[i]['isAce'] == 1)):\n",
        "                shots_in_won += df_as_server.iloc[i][\"shotInRally\"] // 2 + 1\n",
        "            elif (df_as_server.iloc[i][\"shotInRally\"] % 2 == 0 and\n",
        "                df_as_server.iloc[i]['isError'] == 1):\n",
        "                shots_in_won += df_as_server.iloc[i][\"shotInRally\"] // 2\n",
        "\n",
        "    for j in range(0, df_as_returner.shape[0]):\n",
        "        if df_as_returner.iloc[j]['isPointEnd'] == 1:\n",
        "            if (df_as_returner.iloc[j][\"shotInRally\"] % 2 == 0 and\n",
        "                df_as_returner.iloc[j]['isWinner'] == 1):\n",
        "                shots_in_won += df_as_returner.iloc[j][\"shotInRally\"] // 2\n",
        "            elif (df_as_returner.iloc[j][\"shotInRally\"] % 2 == 1 and\n",
        "                df_as_returner.iloc[j]['isError'] == 1):\n",
        "                shots_in_won += df_as_returner.iloc[j][\"shotInRally\"] // 2\n",
        "\n",
        "    return round(100 * shots_in_won / total_shots(df, player), 2)\n",
        "\n",
        "print(f\"The percentage of shots in points lost by {player_1} is : {shots_in_pts_won_per(point_df_eda, player_1)}%.\")"
      ],
      "metadata": {
        "colab": {
          "base_uri": "https://localhost:8080/"
        },
        "id": "x7_IcUlV14Lw",
        "outputId": "d5ca34b1-ef95-49e6-de43-dd3bf76db5c5"
      },
      "execution_count": 27,
      "outputs": [
        {
          "output_type": "stream",
          "name": "stdout",
          "text": [
            "The percentage of shots in points lost by Spencer Johnson is : 63.32%.\n"
          ]
        }
      ]
    },
    {
      "cell_type": "code",
      "source": [
        "def shots_in_pts_lost_per(df, player):\n",
        "    df_as_server = df[df[\"serverName\"] == player]\n",
        "    df_as_returner = df[df[\"serverName\"] != player]\n",
        "\n",
        "    shots_in_lost = 0\n",
        "\n",
        "    for i in range(0, df_as_server.shape[0]):\n",
        "        if (df_as_server.iloc[i]['isPointEnd'] == 1):\n",
        "            if (df_as_server.iloc[i][\"shotInRally\"] % 2 == 0 and\n",
        "                df_as_server.iloc[i]['isWinner'] == 1):\n",
        "                shots_in_lost += df_as_server.iloc[i][\"shotInRally\"] // 2\n",
        "            elif (df_as_server.iloc[i][\"shotInRally\"] % 2 == 1 and\n",
        "                df_as_server.iloc[i]['isError'] == 1):\n",
        "                shots_in_lost += df_as_server.iloc[i][\"shotInRally\"] // 2 + 1\n",
        "\n",
        "    for j in range(0, df_as_returner.shape[0]):\n",
        "        if df_as_returner.iloc[j]['isPointEnd'] == 1:\n",
        "            if (df_as_returner.iloc[j][\"shotInRally\"] % 2 == 1 and\n",
        "                (df_as_returner.iloc[j]['isWinner'] == 1 or\n",
        "                 df_as_returner.iloc[j]['isAce'] == 1)):\n",
        "                shots_in_lost += df_as_returner.iloc[j][\"shotInRally\"] // 2\n",
        "            elif (df_as_returner.iloc[j][\"shotInRally\"] % 2 == 0 and\n",
        "                df_as_returner.iloc[j]['isError'] == 1):\n",
        "                shots_in_lost += df_as_returner.iloc[j][\"shotInRally\"] // 2\n",
        "\n",
        "    return round(100 * shots_in_lost / total_shots(df, player), 2)\n",
        "\n",
        "print(f\"The percentage of shots in points lost by {player_1} is : {shots_in_pts_lost_per(point_df_eda, player_1)}%.\")"
      ],
      "metadata": {
        "colab": {
          "base_uri": "https://localhost:8080/"
        },
        "id": "Ft5jEVTiAMrs",
        "outputId": "c4de19e5-6a1f-4c03-a27f-819b559b17e6"
      },
      "execution_count": 28,
      "outputs": [
        {
          "output_type": "stream",
          "name": "stdout",
          "text": [
            "The percentage of shots in points lost by Spencer Johnson is : 36.68%.\n"
          ]
        }
      ]
    },
    {
      "cell_type": "code",
      "source": [
        "def shots_in_won_vs_lost_ratio(df, player):\n",
        "  return round(shots_in_pts_won_per(df, player) / shots_in_pts_lost_per(df, player), 2)\n",
        "\n",
        "print(f\"Shots in points won vs lost ratio by {player_1} is : {shots_in_won_vs_lost_ratio(point_df_eda, player_1)}.\")"
      ],
      "metadata": {
        "colab": {
          "base_uri": "https://localhost:8080/"
        },
        "id": "OeMUWvYleoOP",
        "outputId": "76b7e8cf-fefe-4bb9-8553-fca990737b90"
      },
      "execution_count": 29,
      "outputs": [
        {
          "output_type": "stream",
          "name": "stdout",
          "text": [
            "Shots in points won vs lost ratio by Spencer Johnson is : 1.73.\n"
          ]
        }
      ]
    },
    {
      "cell_type": "code",
      "source": [
        "def inside_in_per(df, player, player_dom_hand):\n",
        "    # assign a new col to keep track of each inside out forehand\n",
        "    df['insideInForehand'] = False\n",
        "    side = 'Ad'\n",
        "\n",
        "    # change side depending on player dominant hand and opponent dominant hand\n",
        "    if player_dom_hand != 'right':\n",
        "        side = 'Deuce'\n",
        "\n",
        "    # set all inside out forehands to True in the new column we initialized\n",
        "    df.loc[(df['shotInRally'] != 2) & (df['shotFhBh'] == 'Forehand') &\n",
        "           (df['shotDirection'] == 'Down the Line') & (df['side'] == side), 'insideInForehand'] = True\n",
        "\n",
        "    # get only the desired player's shots from the parameter\n",
        "    player_shots = df[((df['serverName'] == player) & (df['shotInRally'] % 2 != 0) & (df['shotInRally'] != 1)) |\n",
        "                      ((df['serverName'] != player) & (df['shotInRally'] % 2 == 0))]\n",
        "\n",
        "    # sum up each direction change the player made divided by their total number of shots\n",
        "    return round(100 * player_shots['insideInForehand'].sum() / total_shots(df, player), 2)\n",
        "\n",
        "print(f\"The inside in percentage by {player_1} is : {inside_in_per(point_df_eda, player_1, player_1_dom_hand)}%.\")"
      ],
      "metadata": {
        "colab": {
          "base_uri": "https://localhost:8080/"
        },
        "id": "ZqVb-DwFpNsV",
        "outputId": "13c4be48-c7f8-4198-cab7-4620e337cc60"
      },
      "execution_count": 30,
      "outputs": [
        {
          "output_type": "stream",
          "name": "stdout",
          "text": [
            "The inside in percentage by Spencer Johnson is : 5.53%.\n"
          ]
        }
      ]
    },
    {
      "cell_type": "code",
      "source": [
        "# inside_out_forehand_num - Derek\n",
        "\n",
        "def inside_out_per(df, player, player_dom_hand):\n",
        "    # assign a new col to keep track of each inside out forehand\n",
        "    df['insideOutForehand'] = False\n",
        "    side = 'Ad'\n",
        "\n",
        "    # change side depending on player dominant hand and opponent dominant hand\n",
        "    if player_dom_hand != 'right':\n",
        "        side = 'Deuce'\n",
        "\n",
        "    # set all inside out forehands to True in the new column we initialized\n",
        "    df.loc[(df['shotInRally'] != 2) & (df['shotFhBh'] == 'Forehand') &\n",
        "           (df['shotDirection'] == 'Crosscourt') & (df['side'] == side), 'insideOutForehand'] = True\n",
        "\n",
        "    # get only the desired player's shots from the parameter\n",
        "    player_shots = df[((df['serverName'] == player) & (df['shotInRally'] % 2 != 0) & (df['shotInRally'] != 1)) |\n",
        "                      ((df['serverName'] != player) & (df['shotInRally'] % 2 == 0))]\n",
        "\n",
        "    # sum up each direction change the player made divided by their total number of shots\n",
        "    return round(100 * player_shots['insideOutForehand'].sum() / total_shots(df, player), 2)\n",
        "\n",
        "print(f\"The inside out percentage by {player_1} is : {inside_out_per(point_df_eda, player_1, player_1_dom_hand)}%.\")"
      ],
      "metadata": {
        "id": "jk66ANjnadXo",
        "colab": {
          "base_uri": "https://localhost:8080/"
        },
        "outputId": "08380275-495a-4130-bf70-ed97c7481f7b"
      },
      "execution_count": 31,
      "outputs": [
        {
          "output_type": "stream",
          "name": "stdout",
          "text": [
            "The inside out percentage by Spencer Johnson is : 1.51%.\n"
          ]
        }
      ]
    },
    {
      "cell_type": "code",
      "source": [
        "# Data for player 1\n",
        "forehand_winner_per_1 = shotType_direct_win_per(point_df_eda, player_1, 'forehand')\n",
        "backhand_winner_per_1 = shotType_direct_win_per(point_df_eda, player_1, 'backhand')\n",
        "net_per_1 = net_per(point_df_eda, player_1)\n",
        "net_point_direct_win_per_1 = net_direct_win_per(point_df_eda, player_1)\n",
        "net_point_winning_per_1 = net_point_winning_per(point_df_eda, player_1)\n",
        "net_point_error_1 = net_point_error_per(point_df_eda, player_1)\n",
        "passing_per_1 = passing_per(point_df_eda, player_1, player_2)\n",
        "winner_per_1 = winner_per(point_df_eda, player_1)\n",
        "err_per_1 = error_per(point_df_eda, player_1)\n",
        "pts_won_Ite_3_shots_per_1 = pts_won_lte_3_shots_per(point_df_eda, player_1)\n",
        "shots_in_pts_won_per_1 = shots_in_pts_won_per(point_df_eda, player_1)\n",
        "shots_in_pts_lost_per_1 = shots_in_pts_lost_per(point_df_eda, player_1)\n",
        "shots_in_won_vs_lost_ratio_1 = shots_in_won_vs_lost_ratio(point_df_eda, player_1)\n",
        "inside_in_per_1 = inside_in_per(point_df_eda, player_1, player_1_dom_hand)\n",
        "inside_out_per_1 = inside_out_per(point_df_eda, player_1, player_1_dom_hand)\n",
        "print(f\"Forehand Winner Percentage (Player 1): {forehand_winner_per_1}%\")\n",
        "print(f\"Backhand Winner Percentage (Player 1): {backhand_winner_per_1}%\")\n",
        "print(f\"Net Percentage (Player 1): {net_per_1}%\")\n",
        "print(f\"Net Point Direct Win Percentage (Player 1): {net_point_direct_win_per_1}%\")\n",
        "print(f\"Net Point Winning Percentage (Player 1): {net_point_winning_per_1}%\")\n",
        "print(f\"Net Point Error Percentage (Player 1): {net_point_error_1}%\")\n",
        "print(f\"Passing Percentage (Player 1): {passing_per_1}%\")\n",
        "print(f\"Winner Percentage (Player 1): {winner_per_1}%\")\n",
        "print(f\"Error Percentage (Player 1): {err_per_1}%\")\n",
        "print(f\"Points Won <= 3 Shots Percentage (Player 1): {pts_won_Ite_3_shots_per_1}%\")\n",
        "print(f\"Shots in Points Won Percentage (Player 1): {shots_in_pts_won_per_1}%\")\n",
        "print(f\"Shots in Points Lost Percentage (Player 1): {shots_in_pts_lost_per_1}%\")\n",
        "print(f\"Shots in Won vs Lost Ratio (Player 1): {shots_in_won_vs_lost_ratio_1}%\")\n",
        "print(f\"Inside-In Percentage (Player 1): {inside_in_per_1}%\")\n",
        "print(f\"Inside-Out Percentage (Player 1): {inside_out_per_1}%\")"
      ],
      "metadata": {
        "id": "aPDaqIr4adRi",
        "colab": {
          "base_uri": "https://localhost:8080/"
        },
        "outputId": "e22a82ba-4247-4d9a-b6cc-4a7827bbf36f"
      },
      "execution_count": 32,
      "outputs": [
        {
          "output_type": "stream",
          "name": "stdout",
          "text": [
            "Forehand Winner Percentage (Player 1): 6.1%\n",
            "Backhand Winner Percentage (Player 1): 4.88%\n",
            "Net Percentage (Player 1): 8.54%\n",
            "Net Point Direct Win Percentage (Player 1): 50.0%\n",
            "Net Point Winning Percentage (Player 1): 4.88%\n",
            "Net Point Error Percentage (Player 1): 28.57%\n",
            "Passing Percentage (Player 1): 125.0%\n",
            "Winner Percentage (Player 1): 27.78%\n",
            "Error Percentage (Player 1): 26.83%\n",
            "Points Won <= 3 Shots Percentage (Player 1): 73.33%\n",
            "Shots in Points Won Percentage (Player 1): 63.32%\n",
            "Shots in Points Lost Percentage (Player 1): 36.68%\n",
            "Shots in Won vs Lost Ratio (Player 1): 1.73%\n",
            "Inside-In Percentage (Player 1): 5.53%\n",
            "Inside-Out Percentage (Player 1): 1.51%\n"
          ]
        }
      ]
    },
    {
      "cell_type": "code",
      "source": [
        "# Data for player 2\n",
        "forehand_winner_per_2 = shotType_direct_win_per(point_df_eda, player_2, 'forehand')\n",
        "backhand_winner_per_2 = shotType_direct_win_per(point_df_eda, player_2, 'backhand')\n",
        "net_per_2 = net_per(point_df_eda, player_2)\n",
        "net_point_direct_win_per_2 = net_direct_win_per(point_df_eda, player_2)\n",
        "net_point_winning_per_2 = net_point_winning_per(point_df_eda, player_2)\n",
        "net_point_error_2 = net_point_error_per(point_df_eda, player_2)\n",
        "passing_per_2 = passing_per(point_df_eda, player_2, player_1)\n",
        "winner_per_2 = winner_per(point_df_eda, player_2)\n",
        "err_per_2 = error_per(point_df_eda, player_2)\n",
        "pts_won_Ite_3_shots_per_2 = pts_won_lte_3_shots_per(point_df_eda, player_2)\n",
        "shots_in_pts_won_per_2 = shots_in_pts_won_per(point_df_eda, player_2)\n",
        "shots_in_pts_lost_per_2 = shots_in_pts_lost_per(point_df_eda, player_2)\n",
        "shots_in_won_vs_lost_ratio_2 = shots_in_won_vs_lost_ratio(point_df_eda, player_2)\n",
        "inside_in_per_2 = inside_in_per(point_df_eda, player_2, player_2_dom_hand)\n",
        "inside_out_per_2 = inside_out_per(point_df_eda, player_2, player_2_dom_hand)\n",
        "print(f\"Forehand Winner Percentage (Player 2): {forehand_winner_per_2}%\")\n",
        "print(f\"Backhand Winner Percentage (Player 2): {backhand_winner_per_2}%\")\n",
        "print(f\"Net Percentage (Player 2): {net_per_2}%\")\n",
        "print(f\"Net Point Direct Win Percentage (Player 2): {net_point_direct_win_per_2}%\")\n",
        "print(f\"Net Point Winning Percentage (Player 2): {net_point_winning_per_2}%\")\n",
        "print(f\"Net Point Error Percentage (Player 2): {net_point_error_2}%\")\n",
        "print(f\"Passing Percentage (Player 2): {passing_per_2}%\")\n",
        "print(f\"Winner Percentage (Player 2): {winner_per_2}%\")\n",
        "print(f\"Error Percentage (Player 2): {err_per_2}%\")\n",
        "print(f\"Points Won <= 3 Shots Percentage (Player 2): {pts_won_Ite_3_shots_per_2}%\")\n",
        "print(f\"Shots in Points Won Percentage (Player 2): {shots_in_pts_won_per_2}%\")\n",
        "print(f\"Shots in Points Lost Percentage (Player 2): {shots_in_pts_lost_per_2}%\")\n",
        "print(f\"Shots in Won vs Lost Ratio (Player 2): {shots_in_won_vs_lost_ratio_2}%\")\n",
        "print(f\"Inside-In Percentage (Player 2): {inside_in_per_2}%\")\n",
        "print(f\"Inside-Out Percentage (Player 2): {inside_out_per_2}%\")"
      ],
      "metadata": {
        "id": "XzyObKz-adJB",
        "colab": {
          "base_uri": "https://localhost:8080/"
        },
        "outputId": "6608470a-da0d-40c7-a058-d5c76df28df0"
      },
      "execution_count": 33,
      "outputs": [
        {
          "output_type": "stream",
          "name": "stdout",
          "text": [
            "Forehand Winner Percentage (Player 2): 6.1%\n",
            "Backhand Winner Percentage (Player 2): 4.88%\n",
            "Net Percentage (Player 2): 4.88%\n",
            "Net Point Direct Win Percentage (Player 2): 50.0%\n",
            "Net Point Winning Percentage (Player 2): 2.44%\n",
            "Net Point Error Percentage (Player 2): 50.0%\n",
            "Passing Percentage (Player 2): 28.57%\n",
            "Winner Percentage (Player 2): 53.57%\n",
            "Error Percentage (Player 2): 26.83%\n",
            "Points Won <= 3 Shots Percentage (Player 2): 13.46%\n",
            "Shots in Points Won Percentage (Player 2): 33.0%\n",
            "Shots in Points Lost Percentage (Player 2): 67.0%\n",
            "Shots in Won vs Lost Ratio (Player 2): 0.49%\n",
            "Inside-In Percentage (Player 2): 10.0%\n",
            "Inside-Out Percentage (Player 2): 3.5%\n"
          ]
        }
      ]
    },
    {
      "cell_type": "code",
      "source": [
        "# Data for Player 1\n",
        "player_1_data = {\n",
        "    \"player\": \"Player 1\",\n",
        "    \"forehand_winner_per\": forehand_winner_per_1,\n",
        "    \"backhand_winner_per\": backhand_winner_per_1,\n",
        "    \"net_per\": net_per_1,\n",
        "    \"net_point_direct_win_per\": net_point_direct_win_per_1,\n",
        "    \"net_point_winning_per\": net_point_winning_per_1,\n",
        "    \"net_point_error\": net_point_error_1,\n",
        "    \"passing_per\": passing_per_1,\n",
        "    \"winner_per\": winner_per_1,\n",
        "    \"err_per\": err_per_1,\n",
        "    \"pts_won_Ite_3_shots_per\": pts_won_Ite_3_shots_per_1,\n",
        "    \"shots_in_pts_won_per\": shots_in_pts_won_per_1,\n",
        "    \"shots_in_pts_lost_per\": shots_in_pts_lost_per_1,\n",
        "    \"shots_in_won_vs_lost_ratio\": shots_in_won_vs_lost_ratio_1,\n",
        "    \"inside_in_per\": inside_in_per_1,\n",
        "    \"inside_out_per\": inside_out_per_1\n",
        "}\n",
        "\n",
        "# Data for Player 2\n",
        "player_2_data = {\n",
        "    \"player\": \"Player 2\",\n",
        "    \"forehand_winner_per\": forehand_winner_per_2,\n",
        "    \"backhand_winner_per\": backhand_winner_per_2,\n",
        "    \"net_per\": net_per_2,\n",
        "    \"net_point_direct_win_per\": net_point_direct_win_per_2,\n",
        "    \"net_point_winning_per\": net_point_winning_per_2,\n",
        "    \"net_point_error\": net_point_error_2,\n",
        "    \"passing_per\": passing_per_2,\n",
        "    \"winner_per\": winner_per_2,\n",
        "    \"err_per\": err_per_2,\n",
        "    \"pts_won_Ite_3_shots_per\": pts_won_Ite_3_shots_per_2,\n",
        "    \"shots_in_pts_won_per\": shots_in_pts_won_per_2,\n",
        "    \"shots_in_pts_lost_per\": shots_in_pts_lost_per_2,\n",
        "    \"shots_in_won_vs_lost_ratio\": shots_in_won_vs_lost_ratio_2,\n",
        "    \"inside_in_per\": inside_in_per_2,\n",
        "    \"inside_out_per\": inside_out_per_2\n",
        "}\n",
        "\n",
        "# Create DataFrame with one row for each player\n",
        "columns = [\n",
        "    \"player\", \"forehand_winner_per\", \"backhand_winner_per\", \"net_per\",\n",
        "    \"net_point_direct_win_per\", \"net_point_winning_per\", \"net_point_error\",\n",
        "    \"passing_per\", \"winner_per\", \"err_per\",\n",
        "    \"pts_won_Ite_3_shots_per\", \"shots_in_pts_won_per\", \"shots_in_pts_lost_per\",\n",
        "    \"shots_in_won_vs_lost_ratio\", \"inside_in_per\", \"inside_out_per\"\n",
        "]\n",
        "\n",
        "data = [player_1_data, player_2_data]\n",
        "school_df = pd.DataFrame(data, columns=columns)\n",
        "\n",
        "# Display the DataFrame\n",
        "school_df"
      ],
      "metadata": {
        "id": "T-33CGwPac-g",
        "colab": {
          "base_uri": "https://localhost:8080/",
          "height": 166
        },
        "outputId": "5da38455-f7b8-464d-bfea-598afa60cf28"
      },
      "execution_count": 34,
      "outputs": [
        {
          "output_type": "execute_result",
          "data": {
            "text/plain": [
              "     player  forehand_winner_per  backhand_winner_per  net_per  \\\n",
              "0  Player 1                  6.1                 4.88     8.54   \n",
              "1  Player 2                  6.1                 4.88     4.88   \n",
              "\n",
              "   net_point_direct_win_per  net_point_winning_per  net_point_error  \\\n",
              "0                      50.0                   4.88            28.57   \n",
              "1                      50.0                   2.44            50.00   \n",
              "\n",
              "   passing_per  winner_per  err_per  pts_won_Ite_3_shots_per  \\\n",
              "0       125.00       27.78    26.83                    73.33   \n",
              "1        28.57       53.57    26.83                    13.46   \n",
              "\n",
              "   shots_in_pts_won_per  shots_in_pts_lost_per  shots_in_won_vs_lost_ratio  \\\n",
              "0                 63.32                  36.68                        1.73   \n",
              "1                 33.00                  67.00                        0.49   \n",
              "\n",
              "   inside_in_per  inside_out_per  \n",
              "0           5.53            1.51  \n",
              "1          10.00            3.50  "
            ],
            "text/html": [
              "\n",
              "  <div id=\"df-7d412574-d60c-44b3-90e3-8920c8b357df\" class=\"colab-df-container\">\n",
              "    <div>\n",
              "<style scoped>\n",
              "    .dataframe tbody tr th:only-of-type {\n",
              "        vertical-align: middle;\n",
              "    }\n",
              "\n",
              "    .dataframe tbody tr th {\n",
              "        vertical-align: top;\n",
              "    }\n",
              "\n",
              "    .dataframe thead th {\n",
              "        text-align: right;\n",
              "    }\n",
              "</style>\n",
              "<table border=\"1\" class=\"dataframe\">\n",
              "  <thead>\n",
              "    <tr style=\"text-align: right;\">\n",
              "      <th></th>\n",
              "      <th>player</th>\n",
              "      <th>forehand_winner_per</th>\n",
              "      <th>backhand_winner_per</th>\n",
              "      <th>net_per</th>\n",
              "      <th>net_point_direct_win_per</th>\n",
              "      <th>net_point_winning_per</th>\n",
              "      <th>net_point_error</th>\n",
              "      <th>passing_per</th>\n",
              "      <th>winner_per</th>\n",
              "      <th>err_per</th>\n",
              "      <th>pts_won_Ite_3_shots_per</th>\n",
              "      <th>shots_in_pts_won_per</th>\n",
              "      <th>shots_in_pts_lost_per</th>\n",
              "      <th>shots_in_won_vs_lost_ratio</th>\n",
              "      <th>inside_in_per</th>\n",
              "      <th>inside_out_per</th>\n",
              "    </tr>\n",
              "  </thead>\n",
              "  <tbody>\n",
              "    <tr>\n",
              "      <th>0</th>\n",
              "      <td>Player 1</td>\n",
              "      <td>6.1</td>\n",
              "      <td>4.88</td>\n",
              "      <td>8.54</td>\n",
              "      <td>50.0</td>\n",
              "      <td>4.88</td>\n",
              "      <td>28.57</td>\n",
              "      <td>125.00</td>\n",
              "      <td>27.78</td>\n",
              "      <td>26.83</td>\n",
              "      <td>73.33</td>\n",
              "      <td>63.32</td>\n",
              "      <td>36.68</td>\n",
              "      <td>1.73</td>\n",
              "      <td>5.53</td>\n",
              "      <td>1.51</td>\n",
              "    </tr>\n",
              "    <tr>\n",
              "      <th>1</th>\n",
              "      <td>Player 2</td>\n",
              "      <td>6.1</td>\n",
              "      <td>4.88</td>\n",
              "      <td>4.88</td>\n",
              "      <td>50.0</td>\n",
              "      <td>2.44</td>\n",
              "      <td>50.00</td>\n",
              "      <td>28.57</td>\n",
              "      <td>53.57</td>\n",
              "      <td>26.83</td>\n",
              "      <td>13.46</td>\n",
              "      <td>33.00</td>\n",
              "      <td>67.00</td>\n",
              "      <td>0.49</td>\n",
              "      <td>10.00</td>\n",
              "      <td>3.50</td>\n",
              "    </tr>\n",
              "  </tbody>\n",
              "</table>\n",
              "</div>\n",
              "    <div class=\"colab-df-buttons\">\n",
              "\n",
              "  <div class=\"colab-df-container\">\n",
              "    <button class=\"colab-df-convert\" onclick=\"convertToInteractive('df-7d412574-d60c-44b3-90e3-8920c8b357df')\"\n",
              "            title=\"Convert this dataframe to an interactive table.\"\n",
              "            style=\"display:none;\">\n",
              "\n",
              "  <svg xmlns=\"http://www.w3.org/2000/svg\" height=\"24px\" viewBox=\"0 -960 960 960\">\n",
              "    <path d=\"M120-120v-720h720v720H120Zm60-500h600v-160H180v160Zm220 220h160v-160H400v160Zm0 220h160v-160H400v160ZM180-400h160v-160H180v160Zm440 0h160v-160H620v160ZM180-180h160v-160H180v160Zm440 0h160v-160H620v160Z\"/>\n",
              "  </svg>\n",
              "    </button>\n",
              "\n",
              "  <style>\n",
              "    .colab-df-container {\n",
              "      display:flex;\n",
              "      gap: 12px;\n",
              "    }\n",
              "\n",
              "    .colab-df-convert {\n",
              "      background-color: #E8F0FE;\n",
              "      border: none;\n",
              "      border-radius: 50%;\n",
              "      cursor: pointer;\n",
              "      display: none;\n",
              "      fill: #1967D2;\n",
              "      height: 32px;\n",
              "      padding: 0 0 0 0;\n",
              "      width: 32px;\n",
              "    }\n",
              "\n",
              "    .colab-df-convert:hover {\n",
              "      background-color: #E2EBFA;\n",
              "      box-shadow: 0px 1px 2px rgba(60, 64, 67, 0.3), 0px 1px 3px 1px rgba(60, 64, 67, 0.15);\n",
              "      fill: #174EA6;\n",
              "    }\n",
              "\n",
              "    .colab-df-buttons div {\n",
              "      margin-bottom: 4px;\n",
              "    }\n",
              "\n",
              "    [theme=dark] .colab-df-convert {\n",
              "      background-color: #3B4455;\n",
              "      fill: #D2E3FC;\n",
              "    }\n",
              "\n",
              "    [theme=dark] .colab-df-convert:hover {\n",
              "      background-color: #434B5C;\n",
              "      box-shadow: 0px 1px 3px 1px rgba(0, 0, 0, 0.15);\n",
              "      filter: drop-shadow(0px 1px 2px rgba(0, 0, 0, 0.3));\n",
              "      fill: #FFFFFF;\n",
              "    }\n",
              "  </style>\n",
              "\n",
              "    <script>\n",
              "      const buttonEl =\n",
              "        document.querySelector('#df-7d412574-d60c-44b3-90e3-8920c8b357df button.colab-df-convert');\n",
              "      buttonEl.style.display =\n",
              "        google.colab.kernel.accessAllowed ? 'block' : 'none';\n",
              "\n",
              "      async function convertToInteractive(key) {\n",
              "        const element = document.querySelector('#df-7d412574-d60c-44b3-90e3-8920c8b357df');\n",
              "        const dataTable =\n",
              "          await google.colab.kernel.invokeFunction('convertToInteractive',\n",
              "                                                    [key], {});\n",
              "        if (!dataTable) return;\n",
              "\n",
              "        const docLinkHtml = 'Like what you see? Visit the ' +\n",
              "          '<a target=\"_blank\" href=https://colab.research.google.com/notebooks/data_table.ipynb>data table notebook</a>'\n",
              "          + ' to learn more about interactive tables.';\n",
              "        element.innerHTML = '';\n",
              "        dataTable['output_type'] = 'display_data';\n",
              "        await google.colab.output.renderOutput(dataTable, element);\n",
              "        const docLink = document.createElement('div');\n",
              "        docLink.innerHTML = docLinkHtml;\n",
              "        element.appendChild(docLink);\n",
              "      }\n",
              "    </script>\n",
              "  </div>\n",
              "\n",
              "\n",
              "<div id=\"df-8fdad09b-052c-447f-bb5e-441c8c066237\">\n",
              "  <button class=\"colab-df-quickchart\" onclick=\"quickchart('df-8fdad09b-052c-447f-bb5e-441c8c066237')\"\n",
              "            title=\"Suggest charts\"\n",
              "            style=\"display:none;\">\n",
              "\n",
              "<svg xmlns=\"http://www.w3.org/2000/svg\" height=\"24px\"viewBox=\"0 0 24 24\"\n",
              "     width=\"24px\">\n",
              "    <g>\n",
              "        <path d=\"M19 3H5c-1.1 0-2 .9-2 2v14c0 1.1.9 2 2 2h14c1.1 0 2-.9 2-2V5c0-1.1-.9-2-2-2zM9 17H7v-7h2v7zm4 0h-2V7h2v10zm4 0h-2v-4h2v4z\"/>\n",
              "    </g>\n",
              "</svg>\n",
              "  </button>\n",
              "\n",
              "<style>\n",
              "  .colab-df-quickchart {\n",
              "      --bg-color: #E8F0FE;\n",
              "      --fill-color: #1967D2;\n",
              "      --hover-bg-color: #E2EBFA;\n",
              "      --hover-fill-color: #174EA6;\n",
              "      --disabled-fill-color: #AAA;\n",
              "      --disabled-bg-color: #DDD;\n",
              "  }\n",
              "\n",
              "  [theme=dark] .colab-df-quickchart {\n",
              "      --bg-color: #3B4455;\n",
              "      --fill-color: #D2E3FC;\n",
              "      --hover-bg-color: #434B5C;\n",
              "      --hover-fill-color: #FFFFFF;\n",
              "      --disabled-bg-color: #3B4455;\n",
              "      --disabled-fill-color: #666;\n",
              "  }\n",
              "\n",
              "  .colab-df-quickchart {\n",
              "    background-color: var(--bg-color);\n",
              "    border: none;\n",
              "    border-radius: 50%;\n",
              "    cursor: pointer;\n",
              "    display: none;\n",
              "    fill: var(--fill-color);\n",
              "    height: 32px;\n",
              "    padding: 0;\n",
              "    width: 32px;\n",
              "  }\n",
              "\n",
              "  .colab-df-quickchart:hover {\n",
              "    background-color: var(--hover-bg-color);\n",
              "    box-shadow: 0 1px 2px rgba(60, 64, 67, 0.3), 0 1px 3px 1px rgba(60, 64, 67, 0.15);\n",
              "    fill: var(--button-hover-fill-color);\n",
              "  }\n",
              "\n",
              "  .colab-df-quickchart-complete:disabled,\n",
              "  .colab-df-quickchart-complete:disabled:hover {\n",
              "    background-color: var(--disabled-bg-color);\n",
              "    fill: var(--disabled-fill-color);\n",
              "    box-shadow: none;\n",
              "  }\n",
              "\n",
              "  .colab-df-spinner {\n",
              "    border: 2px solid var(--fill-color);\n",
              "    border-color: transparent;\n",
              "    border-bottom-color: var(--fill-color);\n",
              "    animation:\n",
              "      spin 1s steps(1) infinite;\n",
              "  }\n",
              "\n",
              "  @keyframes spin {\n",
              "    0% {\n",
              "      border-color: transparent;\n",
              "      border-bottom-color: var(--fill-color);\n",
              "      border-left-color: var(--fill-color);\n",
              "    }\n",
              "    20% {\n",
              "      border-color: transparent;\n",
              "      border-left-color: var(--fill-color);\n",
              "      border-top-color: var(--fill-color);\n",
              "    }\n",
              "    30% {\n",
              "      border-color: transparent;\n",
              "      border-left-color: var(--fill-color);\n",
              "      border-top-color: var(--fill-color);\n",
              "      border-right-color: var(--fill-color);\n",
              "    }\n",
              "    40% {\n",
              "      border-color: transparent;\n",
              "      border-right-color: var(--fill-color);\n",
              "      border-top-color: var(--fill-color);\n",
              "    }\n",
              "    60% {\n",
              "      border-color: transparent;\n",
              "      border-right-color: var(--fill-color);\n",
              "    }\n",
              "    80% {\n",
              "      border-color: transparent;\n",
              "      border-right-color: var(--fill-color);\n",
              "      border-bottom-color: var(--fill-color);\n",
              "    }\n",
              "    90% {\n",
              "      border-color: transparent;\n",
              "      border-bottom-color: var(--fill-color);\n",
              "    }\n",
              "  }\n",
              "</style>\n",
              "\n",
              "  <script>\n",
              "    async function quickchart(key) {\n",
              "      const quickchartButtonEl =\n",
              "        document.querySelector('#' + key + ' button');\n",
              "      quickchartButtonEl.disabled = true;  // To prevent multiple clicks.\n",
              "      quickchartButtonEl.classList.add('colab-df-spinner');\n",
              "      try {\n",
              "        const charts = await google.colab.kernel.invokeFunction(\n",
              "            'suggestCharts', [key], {});\n",
              "      } catch (error) {\n",
              "        console.error('Error during call to suggestCharts:', error);\n",
              "      }\n",
              "      quickchartButtonEl.classList.remove('colab-df-spinner');\n",
              "      quickchartButtonEl.classList.add('colab-df-quickchart-complete');\n",
              "    }\n",
              "    (() => {\n",
              "      let quickchartButtonEl =\n",
              "        document.querySelector('#df-8fdad09b-052c-447f-bb5e-441c8c066237 button');\n",
              "      quickchartButtonEl.style.display =\n",
              "        google.colab.kernel.accessAllowed ? 'block' : 'none';\n",
              "    })();\n",
              "  </script>\n",
              "</div>\n",
              "\n",
              "  <div id=\"id_af1d1608-97eb-47bd-824a-56e318a822f2\">\n",
              "    <style>\n",
              "      .colab-df-generate {\n",
              "        background-color: #E8F0FE;\n",
              "        border: none;\n",
              "        border-radius: 50%;\n",
              "        cursor: pointer;\n",
              "        display: none;\n",
              "        fill: #1967D2;\n",
              "        height: 32px;\n",
              "        padding: 0 0 0 0;\n",
              "        width: 32px;\n",
              "      }\n",
              "\n",
              "      .colab-df-generate:hover {\n",
              "        background-color: #E2EBFA;\n",
              "        box-shadow: 0px 1px 2px rgba(60, 64, 67, 0.3), 0px 1px 3px 1px rgba(60, 64, 67, 0.15);\n",
              "        fill: #174EA6;\n",
              "      }\n",
              "\n",
              "      [theme=dark] .colab-df-generate {\n",
              "        background-color: #3B4455;\n",
              "        fill: #D2E3FC;\n",
              "      }\n",
              "\n",
              "      [theme=dark] .colab-df-generate:hover {\n",
              "        background-color: #434B5C;\n",
              "        box-shadow: 0px 1px 3px 1px rgba(0, 0, 0, 0.15);\n",
              "        filter: drop-shadow(0px 1px 2px rgba(0, 0, 0, 0.3));\n",
              "        fill: #FFFFFF;\n",
              "      }\n",
              "    </style>\n",
              "    <button class=\"colab-df-generate\" onclick=\"generateWithVariable('school_df')\"\n",
              "            title=\"Generate code using this dataframe.\"\n",
              "            style=\"display:none;\">\n",
              "\n",
              "  <svg xmlns=\"http://www.w3.org/2000/svg\" height=\"24px\"viewBox=\"0 0 24 24\"\n",
              "       width=\"24px\">\n",
              "    <path d=\"M7,19H8.4L18.45,9,17,7.55,7,17.6ZM5,21V16.75L18.45,3.32a2,2,0,0,1,2.83,0l1.4,1.43a1.91,1.91,0,0,1,.58,1.4,1.91,1.91,0,0,1-.58,1.4L9.25,21ZM18.45,9,17,7.55Zm-12,3A5.31,5.31,0,0,0,4.9,8.1,5.31,5.31,0,0,0,1,6.5,5.31,5.31,0,0,0,4.9,4.9,5.31,5.31,0,0,0,6.5,1,5.31,5.31,0,0,0,8.1,4.9,5.31,5.31,0,0,0,12,6.5,5.46,5.46,0,0,0,6.5,12Z\"/>\n",
              "  </svg>\n",
              "    </button>\n",
              "    <script>\n",
              "      (() => {\n",
              "      const buttonEl =\n",
              "        document.querySelector('#id_af1d1608-97eb-47bd-824a-56e318a822f2 button.colab-df-generate');\n",
              "      buttonEl.style.display =\n",
              "        google.colab.kernel.accessAllowed ? 'block' : 'none';\n",
              "\n",
              "      buttonEl.onclick = () => {\n",
              "        google.colab.notebook.generateWithVariable('school_df');\n",
              "      }\n",
              "      })();\n",
              "    </script>\n",
              "  </div>\n",
              "\n",
              "    </div>\n",
              "  </div>\n"
            ],
            "application/vnd.google.colaboratory.intrinsic+json": {
              "type": "dataframe",
              "variable_name": "school_df",
              "summary": "{\n  \"name\": \"school_df\",\n  \"rows\": 2,\n  \"fields\": [\n    {\n      \"column\": \"player\",\n      \"properties\": {\n        \"dtype\": \"string\",\n        \"num_unique_values\": 2,\n        \"samples\": [\n          \"Player 2\",\n          \"Player 1\"\n        ],\n        \"semantic_type\": \"\",\n        \"description\": \"\"\n      }\n    },\n    {\n      \"column\": \"forehand_winner_per\",\n      \"properties\": {\n        \"dtype\": \"number\",\n        \"std\": 0.0,\n        \"min\": 6.1,\n        \"max\": 6.1,\n        \"num_unique_values\": 1,\n        \"samples\": [\n          6.1\n        ],\n        \"semantic_type\": \"\",\n        \"description\": \"\"\n      }\n    },\n    {\n      \"column\": \"backhand_winner_per\",\n      \"properties\": {\n        \"dtype\": \"number\",\n        \"std\": 0.0,\n        \"min\": 4.88,\n        \"max\": 4.88,\n        \"num_unique_values\": 1,\n        \"samples\": [\n          4.88\n        ],\n        \"semantic_type\": \"\",\n        \"description\": \"\"\n      }\n    },\n    {\n      \"column\": \"net_per\",\n      \"properties\": {\n        \"dtype\": \"number\",\n        \"std\": 2.5880108191427635,\n        \"min\": 4.88,\n        \"max\": 8.54,\n        \"num_unique_values\": 2,\n        \"samples\": [\n          4.88\n        ],\n        \"semantic_type\": \"\",\n        \"description\": \"\"\n      }\n    },\n    {\n      \"column\": \"net_point_direct_win_per\",\n      \"properties\": {\n        \"dtype\": \"number\",\n        \"std\": 0.0,\n        \"min\": 50.0,\n        \"max\": 50.0,\n        \"num_unique_values\": 1,\n        \"samples\": [\n          50.0\n        ],\n        \"semantic_type\": \"\",\n        \"description\": \"\"\n      }\n    },\n    {\n      \"column\": \"net_point_winning_per\",\n      \"properties\": {\n        \"dtype\": \"number\",\n        \"std\": 1.7253405460951758,\n        \"min\": 2.44,\n        \"max\": 4.88,\n        \"num_unique_values\": 2,\n        \"samples\": [\n          2.44\n        ],\n        \"semantic_type\": \"\",\n        \"description\": \"\"\n      }\n    },\n    {\n      \"column\": \"net_point_error\",\n      \"properties\": {\n        \"dtype\": \"number\",\n        \"std\": 15.153298320827714,\n        \"min\": 28.57,\n        \"max\": 50.0,\n        \"num_unique_values\": 2,\n        \"samples\": [\n          50.0\n        ],\n        \"semantic_type\": \"\",\n        \"description\": \"\"\n      }\n    },\n    {\n      \"column\": \"passing_per\",\n      \"properties\": {\n        \"dtype\": \"number\",\n        \"std\": 68.18630690981878,\n        \"min\": 28.57,\n        \"max\": 125.0,\n        \"num_unique_values\": 2,\n        \"samples\": [\n          28.57\n        ],\n        \"semantic_type\": \"\",\n        \"description\": \"\"\n      }\n    },\n    {\n      \"column\": \"winner_per\",\n      \"properties\": {\n        \"dtype\": \"number\",\n        \"std\": 18.23628388680106,\n        \"min\": 27.78,\n        \"max\": 53.57,\n        \"num_unique_values\": 2,\n        \"samples\": [\n          53.57\n        ],\n        \"semantic_type\": \"\",\n        \"description\": \"\"\n      }\n    },\n    {\n      \"column\": \"err_per\",\n      \"properties\": {\n        \"dtype\": \"number\",\n        \"std\": 0.0,\n        \"min\": 26.83,\n        \"max\": 26.83,\n        \"num_unique_values\": 1,\n        \"samples\": [\n          26.83\n        ],\n        \"semantic_type\": \"\",\n        \"description\": \"\"\n      }\n    },\n    {\n      \"column\": \"pts_won_Ite_3_shots_per\",\n      \"properties\": {\n        \"dtype\": \"number\",\n        \"std\": 42.3344829896386,\n        \"min\": 13.46,\n        \"max\": 73.33,\n        \"num_unique_values\": 2,\n        \"samples\": [\n          13.46\n        ],\n        \"semantic_type\": \"\",\n        \"description\": \"\"\n      }\n    },\n    {\n      \"column\": \"shots_in_pts_won_per\",\n      \"properties\": {\n        \"dtype\": \"number\",\n        \"std\": 21.439477605576123,\n        \"min\": 33.0,\n        \"max\": 63.32,\n        \"num_unique_values\": 2,\n        \"samples\": [\n          33.0\n        ],\n        \"semantic_type\": \"\",\n        \"description\": \"\"\n      }\n    },\n    {\n      \"column\": \"shots_in_pts_lost_per\",\n      \"properties\": {\n        \"dtype\": \"number\",\n        \"std\": 21.439477605576123,\n        \"min\": 36.68,\n        \"max\": 67.0,\n        \"num_unique_values\": 2,\n        \"samples\": [\n          67.0\n        ],\n        \"semantic_type\": \"\",\n        \"description\": \"\"\n      }\n    },\n    {\n      \"column\": \"shots_in_won_vs_lost_ratio\",\n      \"properties\": {\n        \"dtype\": \"number\",\n        \"std\": 0.8768124086713189,\n        \"min\": 0.49,\n        \"max\": 1.73,\n        \"num_unique_values\": 2,\n        \"samples\": [\n          0.49\n        ],\n        \"semantic_type\": \"\",\n        \"description\": \"\"\n      }\n    },\n    {\n      \"column\": \"inside_in_per\",\n      \"properties\": {\n        \"dtype\": \"number\",\n        \"std\": 3.1607673119038675,\n        \"min\": 5.53,\n        \"max\": 10.0,\n        \"num_unique_values\": 2,\n        \"samples\": [\n          10.0\n        ],\n        \"semantic_type\": \"\",\n        \"description\": \"\"\n      }\n    },\n    {\n      \"column\": \"inside_out_per\",\n      \"properties\": {\n        \"dtype\": \"number\",\n        \"std\": 1.4071424945612296,\n        \"min\": 1.51,\n        \"max\": 3.5,\n        \"num_unique_values\": 2,\n        \"samples\": [\n          3.5\n        ],\n        \"semantic_type\": \"\",\n        \"description\": \"\"\n      }\n    }\n  ]\n}"
            }
          },
          "metadata": {},
          "execution_count": 34
        }
      ]
    },
    {
      "cell_type": "code",
      "source": [
        "# Load the saved model\n",
        "model_path = '/content/drive/My Drive/FIT/Work_Space_Shot_Quality_Metric/Machine_Learning/rf_regressor_model.joblib'\n",
        "rf_regressor = joblib.load(model_path)"
      ],
      "metadata": {
        "id": "L8Xn7rjsfvin"
      },
      "execution_count": 35,
      "outputs": []
    },
    {
      "cell_type": "code",
      "source": [
        "school_df[school_df['player'] == 'Player 1']"
      ],
      "metadata": {
        "id": "MKTmJFZ8glh4",
        "colab": {
          "base_uri": "https://localhost:8080/",
          "height": 118
        },
        "outputId": "d5dddd0d-1b71-40c1-ca4b-2f9823fe8cd0"
      },
      "execution_count": 36,
      "outputs": [
        {
          "output_type": "execute_result",
          "data": {
            "text/plain": [
              "     player  forehand_winner_per  backhand_winner_per  net_per  \\\n",
              "0  Player 1                  6.1                 4.88     8.54   \n",
              "\n",
              "   net_point_direct_win_per  net_point_winning_per  net_point_error  \\\n",
              "0                      50.0                   4.88            28.57   \n",
              "\n",
              "   passing_per  winner_per  err_per  pts_won_Ite_3_shots_per  \\\n",
              "0        125.0       27.78    26.83                    73.33   \n",
              "\n",
              "   shots_in_pts_won_per  shots_in_pts_lost_per  shots_in_won_vs_lost_ratio  \\\n",
              "0                 63.32                  36.68                        1.73   \n",
              "\n",
              "   inside_in_per  inside_out_per  \n",
              "0           5.53            1.51  "
            ],
            "text/html": [
              "\n",
              "  <div id=\"df-5c501387-d82a-4f24-bcc3-03af7b34371d\" class=\"colab-df-container\">\n",
              "    <div>\n",
              "<style scoped>\n",
              "    .dataframe tbody tr th:only-of-type {\n",
              "        vertical-align: middle;\n",
              "    }\n",
              "\n",
              "    .dataframe tbody tr th {\n",
              "        vertical-align: top;\n",
              "    }\n",
              "\n",
              "    .dataframe thead th {\n",
              "        text-align: right;\n",
              "    }\n",
              "</style>\n",
              "<table border=\"1\" class=\"dataframe\">\n",
              "  <thead>\n",
              "    <tr style=\"text-align: right;\">\n",
              "      <th></th>\n",
              "      <th>player</th>\n",
              "      <th>forehand_winner_per</th>\n",
              "      <th>backhand_winner_per</th>\n",
              "      <th>net_per</th>\n",
              "      <th>net_point_direct_win_per</th>\n",
              "      <th>net_point_winning_per</th>\n",
              "      <th>net_point_error</th>\n",
              "      <th>passing_per</th>\n",
              "      <th>winner_per</th>\n",
              "      <th>err_per</th>\n",
              "      <th>pts_won_Ite_3_shots_per</th>\n",
              "      <th>shots_in_pts_won_per</th>\n",
              "      <th>shots_in_pts_lost_per</th>\n",
              "      <th>shots_in_won_vs_lost_ratio</th>\n",
              "      <th>inside_in_per</th>\n",
              "      <th>inside_out_per</th>\n",
              "    </tr>\n",
              "  </thead>\n",
              "  <tbody>\n",
              "    <tr>\n",
              "      <th>0</th>\n",
              "      <td>Player 1</td>\n",
              "      <td>6.1</td>\n",
              "      <td>4.88</td>\n",
              "      <td>8.54</td>\n",
              "      <td>50.0</td>\n",
              "      <td>4.88</td>\n",
              "      <td>28.57</td>\n",
              "      <td>125.0</td>\n",
              "      <td>27.78</td>\n",
              "      <td>26.83</td>\n",
              "      <td>73.33</td>\n",
              "      <td>63.32</td>\n",
              "      <td>36.68</td>\n",
              "      <td>1.73</td>\n",
              "      <td>5.53</td>\n",
              "      <td>1.51</td>\n",
              "    </tr>\n",
              "  </tbody>\n",
              "</table>\n",
              "</div>\n",
              "    <div class=\"colab-df-buttons\">\n",
              "\n",
              "  <div class=\"colab-df-container\">\n",
              "    <button class=\"colab-df-convert\" onclick=\"convertToInteractive('df-5c501387-d82a-4f24-bcc3-03af7b34371d')\"\n",
              "            title=\"Convert this dataframe to an interactive table.\"\n",
              "            style=\"display:none;\">\n",
              "\n",
              "  <svg xmlns=\"http://www.w3.org/2000/svg\" height=\"24px\" viewBox=\"0 -960 960 960\">\n",
              "    <path d=\"M120-120v-720h720v720H120Zm60-500h600v-160H180v160Zm220 220h160v-160H400v160Zm0 220h160v-160H400v160ZM180-400h160v-160H180v160Zm440 0h160v-160H620v160ZM180-180h160v-160H180v160Zm440 0h160v-160H620v160Z\"/>\n",
              "  </svg>\n",
              "    </button>\n",
              "\n",
              "  <style>\n",
              "    .colab-df-container {\n",
              "      display:flex;\n",
              "      gap: 12px;\n",
              "    }\n",
              "\n",
              "    .colab-df-convert {\n",
              "      background-color: #E8F0FE;\n",
              "      border: none;\n",
              "      border-radius: 50%;\n",
              "      cursor: pointer;\n",
              "      display: none;\n",
              "      fill: #1967D2;\n",
              "      height: 32px;\n",
              "      padding: 0 0 0 0;\n",
              "      width: 32px;\n",
              "    }\n",
              "\n",
              "    .colab-df-convert:hover {\n",
              "      background-color: #E2EBFA;\n",
              "      box-shadow: 0px 1px 2px rgba(60, 64, 67, 0.3), 0px 1px 3px 1px rgba(60, 64, 67, 0.15);\n",
              "      fill: #174EA6;\n",
              "    }\n",
              "\n",
              "    .colab-df-buttons div {\n",
              "      margin-bottom: 4px;\n",
              "    }\n",
              "\n",
              "    [theme=dark] .colab-df-convert {\n",
              "      background-color: #3B4455;\n",
              "      fill: #D2E3FC;\n",
              "    }\n",
              "\n",
              "    [theme=dark] .colab-df-convert:hover {\n",
              "      background-color: #434B5C;\n",
              "      box-shadow: 0px 1px 3px 1px rgba(0, 0, 0, 0.15);\n",
              "      filter: drop-shadow(0px 1px 2px rgba(0, 0, 0, 0.3));\n",
              "      fill: #FFFFFF;\n",
              "    }\n",
              "  </style>\n",
              "\n",
              "    <script>\n",
              "      const buttonEl =\n",
              "        document.querySelector('#df-5c501387-d82a-4f24-bcc3-03af7b34371d button.colab-df-convert');\n",
              "      buttonEl.style.display =\n",
              "        google.colab.kernel.accessAllowed ? 'block' : 'none';\n",
              "\n",
              "      async function convertToInteractive(key) {\n",
              "        const element = document.querySelector('#df-5c501387-d82a-4f24-bcc3-03af7b34371d');\n",
              "        const dataTable =\n",
              "          await google.colab.kernel.invokeFunction('convertToInteractive',\n",
              "                                                    [key], {});\n",
              "        if (!dataTable) return;\n",
              "\n",
              "        const docLinkHtml = 'Like what you see? Visit the ' +\n",
              "          '<a target=\"_blank\" href=https://colab.research.google.com/notebooks/data_table.ipynb>data table notebook</a>'\n",
              "          + ' to learn more about interactive tables.';\n",
              "        element.innerHTML = '';\n",
              "        dataTable['output_type'] = 'display_data';\n",
              "        await google.colab.output.renderOutput(dataTable, element);\n",
              "        const docLink = document.createElement('div');\n",
              "        docLink.innerHTML = docLinkHtml;\n",
              "        element.appendChild(docLink);\n",
              "      }\n",
              "    </script>\n",
              "  </div>\n",
              "\n",
              "\n",
              "    </div>\n",
              "  </div>\n"
            ],
            "application/vnd.google.colaboratory.intrinsic+json": {
              "type": "dataframe",
              "summary": "{\n  \"name\": \"school_df[school_df['player'] == 'Player 1']\",\n  \"rows\": 1,\n  \"fields\": [\n    {\n      \"column\": \"player\",\n      \"properties\": {\n        \"dtype\": \"string\",\n        \"num_unique_values\": 1,\n        \"samples\": [\n          \"Player 1\"\n        ],\n        \"semantic_type\": \"\",\n        \"description\": \"\"\n      }\n    },\n    {\n      \"column\": \"forehand_winner_per\",\n      \"properties\": {\n        \"dtype\": \"number\",\n        \"std\": null,\n        \"min\": 6.1,\n        \"max\": 6.1,\n        \"num_unique_values\": 1,\n        \"samples\": [\n          6.1\n        ],\n        \"semantic_type\": \"\",\n        \"description\": \"\"\n      }\n    },\n    {\n      \"column\": \"backhand_winner_per\",\n      \"properties\": {\n        \"dtype\": \"number\",\n        \"std\": null,\n        \"min\": 4.88,\n        \"max\": 4.88,\n        \"num_unique_values\": 1,\n        \"samples\": [\n          4.88\n        ],\n        \"semantic_type\": \"\",\n        \"description\": \"\"\n      }\n    },\n    {\n      \"column\": \"net_per\",\n      \"properties\": {\n        \"dtype\": \"number\",\n        \"std\": null,\n        \"min\": 8.54,\n        \"max\": 8.54,\n        \"num_unique_values\": 1,\n        \"samples\": [\n          8.54\n        ],\n        \"semantic_type\": \"\",\n        \"description\": \"\"\n      }\n    },\n    {\n      \"column\": \"net_point_direct_win_per\",\n      \"properties\": {\n        \"dtype\": \"number\",\n        \"std\": null,\n        \"min\": 50.0,\n        \"max\": 50.0,\n        \"num_unique_values\": 1,\n        \"samples\": [\n          50.0\n        ],\n        \"semantic_type\": \"\",\n        \"description\": \"\"\n      }\n    },\n    {\n      \"column\": \"net_point_winning_per\",\n      \"properties\": {\n        \"dtype\": \"number\",\n        \"std\": null,\n        \"min\": 4.88,\n        \"max\": 4.88,\n        \"num_unique_values\": 1,\n        \"samples\": [\n          4.88\n        ],\n        \"semantic_type\": \"\",\n        \"description\": \"\"\n      }\n    },\n    {\n      \"column\": \"net_point_error\",\n      \"properties\": {\n        \"dtype\": \"number\",\n        \"std\": null,\n        \"min\": 28.57,\n        \"max\": 28.57,\n        \"num_unique_values\": 1,\n        \"samples\": [\n          28.57\n        ],\n        \"semantic_type\": \"\",\n        \"description\": \"\"\n      }\n    },\n    {\n      \"column\": \"passing_per\",\n      \"properties\": {\n        \"dtype\": \"number\",\n        \"std\": null,\n        \"min\": 125.0,\n        \"max\": 125.0,\n        \"num_unique_values\": 1,\n        \"samples\": [\n          125.0\n        ],\n        \"semantic_type\": \"\",\n        \"description\": \"\"\n      }\n    },\n    {\n      \"column\": \"winner_per\",\n      \"properties\": {\n        \"dtype\": \"number\",\n        \"std\": null,\n        \"min\": 27.78,\n        \"max\": 27.78,\n        \"num_unique_values\": 1,\n        \"samples\": [\n          27.78\n        ],\n        \"semantic_type\": \"\",\n        \"description\": \"\"\n      }\n    },\n    {\n      \"column\": \"err_per\",\n      \"properties\": {\n        \"dtype\": \"number\",\n        \"std\": null,\n        \"min\": 26.83,\n        \"max\": 26.83,\n        \"num_unique_values\": 1,\n        \"samples\": [\n          26.83\n        ],\n        \"semantic_type\": \"\",\n        \"description\": \"\"\n      }\n    },\n    {\n      \"column\": \"pts_won_Ite_3_shots_per\",\n      \"properties\": {\n        \"dtype\": \"number\",\n        \"std\": null,\n        \"min\": 73.33,\n        \"max\": 73.33,\n        \"num_unique_values\": 1,\n        \"samples\": [\n          73.33\n        ],\n        \"semantic_type\": \"\",\n        \"description\": \"\"\n      }\n    },\n    {\n      \"column\": \"shots_in_pts_won_per\",\n      \"properties\": {\n        \"dtype\": \"number\",\n        \"std\": null,\n        \"min\": 63.32,\n        \"max\": 63.32,\n        \"num_unique_values\": 1,\n        \"samples\": [\n          63.32\n        ],\n        \"semantic_type\": \"\",\n        \"description\": \"\"\n      }\n    },\n    {\n      \"column\": \"shots_in_pts_lost_per\",\n      \"properties\": {\n        \"dtype\": \"number\",\n        \"std\": null,\n        \"min\": 36.68,\n        \"max\": 36.68,\n        \"num_unique_values\": 1,\n        \"samples\": [\n          36.68\n        ],\n        \"semantic_type\": \"\",\n        \"description\": \"\"\n      }\n    },\n    {\n      \"column\": \"shots_in_won_vs_lost_ratio\",\n      \"properties\": {\n        \"dtype\": \"number\",\n        \"std\": null,\n        \"min\": 1.73,\n        \"max\": 1.73,\n        \"num_unique_values\": 1,\n        \"samples\": [\n          1.73\n        ],\n        \"semantic_type\": \"\",\n        \"description\": \"\"\n      }\n    },\n    {\n      \"column\": \"inside_in_per\",\n      \"properties\": {\n        \"dtype\": \"number\",\n        \"std\": null,\n        \"min\": 5.53,\n        \"max\": 5.53,\n        \"num_unique_values\": 1,\n        \"samples\": [\n          5.53\n        ],\n        \"semantic_type\": \"\",\n        \"description\": \"\"\n      }\n    },\n    {\n      \"column\": \"inside_out_per\",\n      \"properties\": {\n        \"dtype\": \"number\",\n        \"std\": null,\n        \"min\": 1.51,\n        \"max\": 1.51,\n        \"num_unique_values\": 1,\n        \"samples\": [\n          1.51\n        ],\n        \"semantic_type\": \"\",\n        \"description\": \"\"\n      }\n    }\n  ]\n}"
            }
          },
          "metadata": {},
          "execution_count": 36
        }
      ]
    },
    {
      "cell_type": "code",
      "source": [
        "# Selecting feature columns and target columns based on the provided instructions\n",
        "feature_columns = [\n",
        "    'forehand_winner_per', 'backhand_winner_per', 'net_per', 'net_point_direct_win_per', 'net_point_winning_per',\n",
        "    'net_point_error', 'passing_per', 'winner_per', 'err_per', 'pts_won_Ite_3_shots_per', 'shots_in_pts_won_per',\n",
        "    'shots_in_pts_lost_per', 'shots_in_won_vs_lost_ratio', 'inside_in_per', 'inside_out_per'\n",
        "]\n",
        "\n",
        "target_columns = ['Counter Puncher', 'Attacking Baseliner', 'All-Court Player', 'Solid Baseliner']\n",
        "\n",
        "# Select the feature columns for Player 1\n",
        "player_1_X = school_df[school_df['player'] == 'Player 1'][feature_columns]\n",
        "player_1_pred = rf_regressor.predict(player_1_X)\n",
        "player_1_predictions = dict(zip(target_columns, player_1_pred[0]))\n",
        "print(f\"Player 1 prediction: {player_1_predictions}.\")\n",
        "\n",
        "# Select the feature columns for Player 2\n",
        "player_2_X = school_df[school_df['player'] == 'Player 2'][feature_columns]\n",
        "player_2_pred = rf_regressor.predict(player_2_X)\n",
        "player_2_predictions = dict(zip(target_columns, player_2_pred[0]))\n",
        "print(f\"Player 2 prediction: {player_2_predictions}.\")"
      ],
      "metadata": {
        "id": "o2pkK1GtGPWv",
        "colab": {
          "base_uri": "https://localhost:8080/"
        },
        "outputId": "0394352c-6466-4360-8caf-992de403b412"
      },
      "execution_count": 37,
      "outputs": [
        {
          "output_type": "stream",
          "name": "stdout",
          "text": [
            "Player 1 prediction: {'Counter Puncher': 0.22590605009320533, 'Attacking Baseliner': -0.11051656030159678, 'All-Court Player': 0.9084532060530861, 'Solid Baseliner': -0.747131563111233}.\n",
            "Player 2 prediction: {'Counter Puncher': 0.19992805568631322, 'Attacking Baseliner': -0.13082237679098976, 'All-Court Player': 0.9308370816804711, 'Solid Baseliner': -0.7286751273363039}.\n"
          ]
        }
      ]
    },
    {
      "cell_type": "markdown",
      "source": [
        "# Big Server Score"
      ],
      "metadata": {
        "id": "6aB0wchOnzg6"
      }
    },
    {
      "cell_type": "code",
      "source": [
        "# Total first serve - Jimmy\n",
        "def total_first_serve(df, player):\n",
        "  df_player = df[df[\"serverName\"] == player]\n",
        "  total_fs = df_player['firstServeIn'].count()\n",
        "  return total_fs\n",
        "\n",
        "print(f\"Total first serve of {player_1} is : {total_first_serve(point_df_eda, player_1)}\")"
      ],
      "metadata": {
        "id": "dkgxn_5zfSQu",
        "colab": {
          "base_uri": "https://localhost:8080/"
        },
        "outputId": "979dd756-fbd2-4663-cbd4-c225d2f494fb"
      },
      "execution_count": 38,
      "outputs": [
        {
          "output_type": "stream",
          "name": "stdout",
          "text": [
            "Total first serve of Spencer Johnson is : 44\n"
          ]
        }
      ]
    },
    {
      "cell_type": "code",
      "source": [
        "# Function to calculate the percentage of the feature,\n",
        "# e.g. percentage of firstServeIn = number of firstServeIn / total number of the first served by player A\n",
        "\n",
        "#first serve in - Janel\n",
        "def first_serve_ratio(df, player):\n",
        "    df_player = df[df[\"serverName\"] == player]\n",
        "    total_fs = total_first_serve(df, player)\n",
        "    serves_in = df_player['firstServeIn'].sum()\n",
        "    per = 100 * serves_in / total_fs\n",
        "    return per\n",
        "\n",
        "print(f\"Percentage of first_serve_in of {player_1} is : {first_serve_ratio(point_df_eda, player_1):.2f}%\")"
      ],
      "metadata": {
        "colab": {
          "base_uri": "https://localhost:8080/"
        },
        "id": "42hZR8I7ljBc",
        "outputId": "16bf26c7-8176-48cf-ccc0-af14f7313645"
      },
      "execution_count": 39,
      "outputs": [
        {
          "output_type": "stream",
          "name": "stdout",
          "text": [
            "Percentage of first_serve_in of Spencer Johnson is : 63.64%\n"
          ]
        }
      ]
    },
    {
      "cell_type": "code",
      "source": [
        "# Total second serve - Jimmy\n",
        "def total_second_serve(df, player):\n",
        "  df_player = df[df[\"serverName\"] == player]\n",
        "  total_ss = df_player['secondServeIn'].count()\n",
        "  return total_ss\n",
        "\n",
        "print(f\"Total second serve of {player_1} is : {total_second_serve(point_df_eda, player_1)}\")"
      ],
      "metadata": {
        "colab": {
          "base_uri": "https://localhost:8080/"
        },
        "id": "S8Xo_6jUlosW",
        "outputId": "9cf9eddd-6f4a-4f48-ef81-28fb1d3edb34"
      },
      "execution_count": 40,
      "outputs": [
        {
          "output_type": "stream",
          "name": "stdout",
          "text": [
            "Total second serve of Spencer Johnson is : 16\n"
          ]
        }
      ]
    },
    {
      "cell_type": "code",
      "source": [
        "#second serve in - Janel\n",
        "def second_serve_ratio(df, player):\n",
        "    df_player = df[df[\"serverName\"] == player]\n",
        "    total_ss = total_second_serve(df, player)\n",
        "    serves_in = df_player['secondServeIn'].sum()\n",
        "    per = 100 * serves_in / total_ss\n",
        "    return per\n",
        "\n",
        "print(f\"Percentage of second_serve_in of {player_1} is : {second_serve_ratio(point_df_eda, player_1):.2f}%\")"
      ],
      "metadata": {
        "colab": {
          "base_uri": "https://localhost:8080/"
        },
        "id": "Dtr4fE65lsO9",
        "outputId": "78b3b879-c9fe-4add-afe7-57bf8dd7fb45"
      },
      "execution_count": 41,
      "outputs": [
        {
          "output_type": "stream",
          "name": "stdout",
          "text": [
            "Percentage of second_serve_in of Spencer Johnson is : 100.00%\n"
          ]
        }
      ]
    },
    {
      "cell_type": "code",
      "source": [
        "#Ace_per - Janel\n",
        "def Ace_per(df, player):\n",
        "    totalServe = total_serve(df, player)\n",
        "    df_player = df[df[\"serverName\"] == player]\n",
        "    totalAce = df_player['isAce'].sum()\n",
        "    per = 100 * totalAce / totalServe\n",
        "    return per\n",
        "\n",
        "print(f\"Ace percentage of {player_1} is : {Ace_per(point_df_eda, player_1):.2f}%\")"
      ],
      "metadata": {
        "colab": {
          "base_uri": "https://localhost:8080/"
        },
        "id": "CZKAeYJ4l0SE",
        "outputId": "4c22467e-2058-450f-94b5-31755fa3426a"
      },
      "execution_count": 42,
      "outputs": [
        {
          "output_type": "stream",
          "name": "stdout",
          "text": [
            "Ace percentage of Spencer Johnson is : 5.00%\n"
          ]
        }
      ]
    },
    {
      "cell_type": "code",
      "source": [
        "# First serve ace percentage - Tony\n",
        "def first_serve_ace_per(df, player):\n",
        "    total_fs = total_first_serve(df, player)\n",
        "    df_player = df[df[\"serverName\"] == player]\n",
        "    df_fs_in = df_player[df_player[\"firstServeIn\"] == 1]\n",
        "    totalAce = df_fs_in['isAce'].sum()\n",
        "    per = 100 * totalAce / total_fs\n",
        "    return per\n",
        "\n",
        "print(f\"First Serve Ace percentage of {player_1} is : {first_serve_ace_per(point_df_eda, player_1):.2f}%\")"
      ],
      "metadata": {
        "colab": {
          "base_uri": "https://localhost:8080/"
        },
        "id": "FCyPZGjMl6C1",
        "outputId": "5b127d32-0451-47c0-cd19-802a7099f6bd"
      },
      "execution_count": 43,
      "outputs": [
        {
          "output_type": "stream",
          "name": "stdout",
          "text": [
            "First Serve Ace percentage of Spencer Johnson is : 6.82%\n"
          ]
        }
      ]
    },
    {
      "cell_type": "code",
      "source": [
        "# Second serve ace percentage - Tony\n",
        "def second_serve_ace_per(df, player):\n",
        "    total_ss = total_second_serve(df, player)\n",
        "    df_player = df[df[\"serverName\"] == player]\n",
        "    df_ss_in = df_player[df_player[\"secondServeIn\"] == 1]\n",
        "    totalAce = df_ss_in['isAce'].sum()\n",
        "    per = 100 * totalAce / total_ss\n",
        "    return per\n",
        "\n",
        "print(f\"Second Serve Ace percentage of {player_1} is : {second_serve_ace_per(point_df_eda, player_1):.2f}%\")"
      ],
      "metadata": {
        "colab": {
          "base_uri": "https://localhost:8080/"
        },
        "id": "yzi4hMMwmCBQ",
        "outputId": "71d9e1c9-b759-4f56-96b8-1e6b99b31701"
      },
      "execution_count": 44,
      "outputs": [
        {
          "output_type": "stream",
          "name": "stdout",
          "text": [
            "Second Serve Ace percentage of Spencer Johnson is : 0.00%\n"
          ]
        }
      ]
    },
    {
      "cell_type": "code",
      "source": [
        "# firstServe_unreturned - Tony\n",
        "def firstServe_unreturned(df, player):\n",
        "    points_served = df[df['serverName'] == player]\n",
        "    firstServe_unreturned = 0\n",
        "\n",
        "    for i in range(1, len(points_served)):\n",
        "        if (points_served.iloc[i]['isPointEnd'] == 1 and\n",
        "            points_served.iloc[i]['shotInRally'] == 2 and\n",
        "            points_served.iloc[i]['isError'] == 1 and\n",
        "            points_served.iloc[i - 1]['firstServeIn'] == 1):\n",
        "            firstServe_unreturned += 1\n",
        "\n",
        "    return firstServe_unreturned\n",
        "\n",
        "print(f\"First Serve Unreturned of {player_1}:\", firstServe_unreturned(df=point_df_eda, player=player_1))"
      ],
      "metadata": {
        "colab": {
          "base_uri": "https://localhost:8080/"
        },
        "id": "XTdc8sq3mEzs",
        "outputId": "4cf8d8d6-982c-4135-ce97-90cb8d400b58"
      },
      "execution_count": 45,
      "outputs": [
        {
          "output_type": "stream",
          "name": "stdout",
          "text": [
            "First Serve Unreturned of Spencer Johnson: 8\n"
          ]
        }
      ]
    },
    {
      "cell_type": "code",
      "source": [
        "# secondServe_unreturned - Tony\n",
        "def secondServe_unreturned(df, player):\n",
        "    points_served = df[df['serverName'] == player]\n",
        "    secondServe_unreturned = 0\n",
        "\n",
        "    for i in range(1, len(points_served)):\n",
        "        if (points_served.iloc[i]['isPointEnd'] == 1 and\n",
        "            points_served.iloc[i]['shotInRally'] == 2 and\n",
        "            points_served.iloc[i]['isError'] == 1 and\n",
        "            points_served.iloc[i - 1]['secondServeIn'] == 1):\n",
        "            secondServe_unreturned += 1\n",
        "\n",
        "    return secondServe_unreturned\n",
        "\n",
        "print(f\"Second Serve Unreturned of {player_1}:\", secondServe_unreturned(df=point_df_eda, player=player_1))"
      ],
      "metadata": {
        "colab": {
          "base_uri": "https://localhost:8080/"
        },
        "id": "1NDAGXo2mIvh",
        "outputId": "22c29456-3dc1-4695-d3a8-2a1908a7492a"
      },
      "execution_count": 46,
      "outputs": [
        {
          "output_type": "stream",
          "name": "stdout",
          "text": [
            "Second Serve Unreturned of Spencer Johnson: 4\n"
          ]
        }
      ]
    },
    {
      "cell_type": "code",
      "source": [
        "# firstServe_plusOne - Tony\n",
        "def firstServe_plusOne(df, player):\n",
        "    points_served = df[df['serverName'] == player]\n",
        "    firstServe_plusOne = 0\n",
        "\n",
        "    for i in range(1, len(points_served)):\n",
        "        if ((points_served.iloc[i]['isPointEnd'] == 1 and\n",
        "             points_served.iloc[i]['shotInRally'] == 3 and\n",
        "             points_served.iloc[i]['isWinner'] == 1 and\n",
        "             points_served.iloc[i - 2]['firstServeIn'] == 1) or\n",
        "            (points_served.iloc[i]['isPointEnd'] == 1 and\n",
        "             points_served.iloc[i]['shotInRally'] == 4 and\n",
        "             points_served.iloc[i]['isError'] == 1 and\n",
        "             points_served.iloc[i - 3]['firstServeIn'] == 1)):\n",
        "            firstServe_plusOne += 1\n",
        "\n",
        "    return firstServe_plusOne\n",
        "\n",
        "print(f\"First Serve Plus One of {player_1}:\", firstServe_plusOne(df=point_df_eda, player=player_1))"
      ],
      "metadata": {
        "colab": {
          "base_uri": "https://localhost:8080/"
        },
        "id": "JqUYiY5FmLcA",
        "outputId": "cb858237-d29a-4bf4-d3c8-adf4b608fc4c"
      },
      "execution_count": 47,
      "outputs": [
        {
          "output_type": "stream",
          "name": "stdout",
          "text": [
            "First Serve Plus One of Spencer Johnson: 7\n"
          ]
        }
      ]
    },
    {
      "cell_type": "code",
      "source": [
        "# secondServe_plusOne - Tony\n",
        "def secondServe_plusOne(df, player):\n",
        "    points_served = df[df['serverName'] == player]\n",
        "    secondServe_plusOne = 0\n",
        "\n",
        "    for i in range(1, len(points_served)):\n",
        "        if ((points_served.iloc[i]['isPointEnd'] == 1 and\n",
        "             points_served.iloc[i]['shotInRally'] == 3 and\n",
        "             points_served.iloc[i]['isWinner'] == 1 and\n",
        "             points_served.iloc[i - 2]['secondServeIn'] == 1) or\n",
        "            (points_served.iloc[i]['isPointEnd'] == 1 and\n",
        "             points_served.iloc[i]['shotInRally'] == 4 and\n",
        "             points_served.iloc[i]['isError'] == 1 and\n",
        "             points_served.iloc[i - 3]['secondServeIn'] == 1)):\n",
        "            secondServe_plusOne += 1\n",
        "\n",
        "    return secondServe_plusOne\n",
        "\n",
        "print(f\"Second Serve Plus One of {player_1}:\", secondServe_plusOne(df=point_df_eda, player=player_1))"
      ],
      "metadata": {
        "colab": {
          "base_uri": "https://localhost:8080/"
        },
        "id": "3nY0wHnrmORy",
        "outputId": "a9b3ca34-5d70-4998-d3b0-6fe0aa6dd202"
      },
      "execution_count": 48,
      "outputs": [
        {
          "output_type": "stream",
          "name": "stdout",
          "text": [
            "Second Serve Plus One of Spencer Johnson: 3\n"
          ]
        }
      ]
    },
    {
      "cell_type": "code",
      "source": [
        "# First serve quality score - Jimmy\n",
        "def first_serve_quality_score(df, player):\n",
        "  fs_ace_per = first_serve_ace_per(df, player)\n",
        "  total_fs = total_first_serve(df, player)\n",
        "  unreturned_fs_per = 100 * firstServe_unreturned(df, player) / total_fs\n",
        "  fs_plusOne_per = 100 * firstServe_plusOne(df, player) / total_fs\n",
        "  return fs_ace_per + unreturned_fs_per + fs_plusOne_per\n",
        "\n",
        "player = \"Alexander Hoogmartens\"  # or Isac Stromberg\n",
        "print(f\"First serve quality score of {player_1} is : {first_serve_quality_score(point_df_eda, player_1):.2f}%\")"
      ],
      "metadata": {
        "colab": {
          "base_uri": "https://localhost:8080/"
        },
        "id": "a_FvEg4HmRry",
        "outputId": "50a0e963-c669-4d9f-e6a8-0df5024ca4d2"
      },
      "execution_count": 49,
      "outputs": [
        {
          "output_type": "stream",
          "name": "stdout",
          "text": [
            "First serve quality score of Spencer Johnson is : 40.91%\n"
          ]
        }
      ]
    },
    {
      "cell_type": "code",
      "source": [
        "# Second serve quality score - Jimmy\n",
        "def second_serve_quality_score(df, player):\n",
        "  ss_ace_per = second_serve_ace_per(df, player)\n",
        "  total_ss = total_second_serve(df, player)\n",
        "  unreturned_ss_per = 100 * secondServe_unreturned(df, player) / total_ss\n",
        "  ss_plusOne_per = 100 * secondServe_plusOne(df, player) / total_ss\n",
        "  return ss_ace_per + unreturned_ss_per + ss_plusOne_per\n",
        "\n",
        "print(f\"Second serve quality score of {player_1} is : {second_serve_quality_score(point_df_eda, player_1):.2f}%\")"
      ],
      "metadata": {
        "colab": {
          "base_uri": "https://localhost:8080/"
        },
        "id": "pjiebDGzmUKr",
        "outputId": "190c3732-1328-4805-ebda-87cd66cf1d7f"
      },
      "execution_count": 50,
      "outputs": [
        {
          "output_type": "stream",
          "name": "stdout",
          "text": [
            "Second serve quality score of Spencer Johnson is : 43.75%\n"
          ]
        }
      ]
    },
    {
      "cell_type": "code",
      "source": [
        "# Serve quality score - Jimmy\n",
        "def serve_quality_score(df, player):\n",
        "  total_fs = total_first_serve(df, player)\n",
        "  total_ss = total_second_serve(df, player)\n",
        "  totalServe = total_serve(df, player)\n",
        "  fs_per = total_fs / totalServe\n",
        "  ss_per = total_ss / totalServe\n",
        "  fs_score = first_serve_quality_score(df, player)\n",
        "  ss_score = second_serve_quality_score(df, player)\n",
        "  return fs_per * fs_score + ss_per * ss_score\n",
        "\n",
        "print(f\"Serve quality score of {player_1} is : {serve_quality_score(point_df_eda, player_1):.2f}\")"
      ],
      "metadata": {
        "colab": {
          "base_uri": "https://localhost:8080/"
        },
        "id": "jSjWPfzimWyR",
        "outputId": "8ddca6e4-825f-447d-d70a-f385a44aede4"
      },
      "execution_count": 51,
      "outputs": [
        {
          "output_type": "stream",
          "name": "stdout",
          "text": [
            "Serve quality score of Spencer Johnson is : 41.67\n"
          ]
        }
      ]
    },
    {
      "cell_type": "markdown",
      "source": [
        "# Server and Volleyer"
      ],
      "metadata": {
        "id": "tEAr_9CLn-2e"
      }
    },
    {
      "cell_type": "code",
      "source": [
        "# Number of points won by first serve plus a net shot - Tyler\n",
        "def win_firstServe_plusOne_netShot(df, player):\n",
        "    points_served = df[df['serverName'] == player]\n",
        "    firstServe_plusOne_netShot = 0\n",
        "\n",
        "    for i in range(1, len(points_served)):\n",
        "        if ((points_served.iloc[i]['isPointEnd'] == 1 and\n",
        "             points_served.iloc[i]['shotInRally'] == 3 and\n",
        "             points_served.iloc[i]['isWinner'] == 1 and\n",
        "             points_served.iloc[i - 2]['firstServeIn'] == 1 and\n",
        "             (points_served.iloc[i]['isVolley'] == 1 or\n",
        "              points_served.iloc[i]['isOverhead'] == 1 or\n",
        "              points_served.iloc[i]['isApproach'] == 1 )) or\n",
        "            (points_served.iloc[i]['isPointEnd'] == 1 and\n",
        "             points_served.iloc[i]['shotInRally'] == 4 and\n",
        "             points_served.iloc[i]['isError'] == 1 and\n",
        "             points_served.iloc[i - 3]['firstServeIn'] == 1 and\n",
        "             (points_served.iloc[i]['isVolley'] == 1 or\n",
        "              points_served.iloc[i]['isOverhead'] == 1 or\n",
        "              points_served.iloc[i]['isApproach'] == 1 ))):\n",
        "            firstServe_plusOne_netShot += 1\n",
        "\n",
        "    return firstServe_plusOne_netShot\n",
        "\n",
        "print(f\"{player_1} won {win_firstServe_plusOne_netShot(point_df_eda, player_1)} points by first serve plus a net shot.\")"
      ],
      "metadata": {
        "colab": {
          "base_uri": "https://localhost:8080/"
        },
        "id": "uIZGQQISmbrK",
        "outputId": "01bf69e1-5aaa-4951-ed3b-4ea6978b3864"
      },
      "execution_count": 52,
      "outputs": [
        {
          "output_type": "stream",
          "name": "stdout",
          "text": [
            "Spencer Johnson won 1 points by first serve plus a net shot.\n"
          ]
        }
      ]
    },
    {
      "cell_type": "code",
      "source": [
        "# Number of points won by second serve plus a net shot - Tyler\n",
        "def win_secondServe_plusOne_netShot(df, player):\n",
        "    points_served = df[df['serverName'] == player]\n",
        "    secondServe_plusOne_netShot = 0\n",
        "\n",
        "    for i in range(1, len(points_served)):\n",
        "        if ((points_served.iloc[i]['isPointEnd'] == 1 and\n",
        "             points_served.iloc[i]['shotInRally'] == 3 and\n",
        "             points_served.iloc[i]['isWinner'] == 1 and\n",
        "             points_served.iloc[i - 2]['secondServeIn'] == 1 and\n",
        "             (points_served.iloc[i]['isVolley'] == 1 or\n",
        "              points_served.iloc[i]['isOverhead'] == 1 or\n",
        "              points_served.iloc[i]['isApproach'] == 1 )) or\n",
        "            (points_served.iloc[i]['isPointEnd'] == 1 and\n",
        "             points_served.iloc[i]['shotInRally'] == 4 and\n",
        "             points_served.iloc[i]['isError'] == 1 and\n",
        "             points_served.iloc[i]['isVolley'] == 1 and\n",
        "             points_served.iloc[i - 3]['secondServeIn'] == 1 and\n",
        "             (points_served.iloc[i]['isVolley'] == 1 or\n",
        "              points_served.iloc[i]['isOverhead'] == 1 or\n",
        "              points_served.iloc[i]['isApproach'] == 1 ))):\n",
        "            secondServe_plusOne_netShot += 1\n",
        "\n",
        "    return secondServe_plusOne_netShot\n",
        "\n",
        "print(f\"{player_1} won {win_secondServe_plusOne_netShot(point_df_eda, player_1)} points by second serve plus a net shot.\")"
      ],
      "metadata": {
        "colab": {
          "base_uri": "https://localhost:8080/"
        },
        "id": "ZD13-QtAnUKD",
        "outputId": "392d298a-4783-45c7-8ea6-7a8fd37ee9f1"
      },
      "execution_count": 53,
      "outputs": [
        {
          "output_type": "stream",
          "name": "stdout",
          "text": [
            "Spencer Johnson won 0 points by second serve plus a net shot.\n"
          ]
        }
      ]
    },
    {
      "cell_type": "code",
      "source": [
        "# Number of first serve plus a net shot - Jimmy\n",
        "def firstServe_plusOne_netShot(df, player):\n",
        "    points_served = df[df['serverName'] == player]\n",
        "    firstServe_plusOne_netShot = 0\n",
        "\n",
        "    for i in range(1, len(points_served)):\n",
        "        if (points_served.iloc[i]['isPointEnd'] == 1 and\n",
        "             points_served.iloc[i]['shotInRally'] == 3 and\n",
        "             points_served.iloc[i - 2]['firstServeIn'] == 1 and\n",
        "             (points_served.iloc[i]['isVolley'] == 1 or\n",
        "              points_served.iloc[i]['isOverhead'] == 1 or\n",
        "              points_served.iloc[i]['isApproach'] == 1)):\n",
        "            firstServe_plusOne_netShot += 1\n",
        "\n",
        "    return firstServe_plusOne_netShot\n",
        "\n",
        "print(f\"{player_1} hit {firstServe_plusOne_netShot(point_df_eda, player_1)} first serve plus a net shot.\")"
      ],
      "metadata": {
        "colab": {
          "base_uri": "https://localhost:8080/"
        },
        "id": "gUYXNoTtncmG",
        "outputId": "dab0d0bf-47b1-4ae9-d2fa-63bbafbaa5ca"
      },
      "execution_count": 54,
      "outputs": [
        {
          "output_type": "stream",
          "name": "stdout",
          "text": [
            "Spencer Johnson hit 2 first serve plus a net shot.\n"
          ]
        }
      ]
    },
    {
      "cell_type": "code",
      "source": [
        "# Number of first serve plus a net shot - Jimmy\n",
        "def secondServe_plusOne_netShot(df, player):\n",
        "    points_served = df[df['serverName'] == player]\n",
        "    secondServe_plusOne_netShot = 0\n",
        "\n",
        "    for i in range(1, len(points_served)):\n",
        "        if (points_served.iloc[i]['isPointEnd'] == 1 and\n",
        "             points_served.iloc[i]['shotInRally'] == 3 and\n",
        "             points_served.iloc[i - 2]['secondServeIn'] == 1 and\n",
        "             (points_served.iloc[i]['isVolley'] == 1 or\n",
        "              points_served.iloc[i]['isOverhead'] == 1 or\n",
        "              points_served.iloc[i]['isApproach'] == 1)):\n",
        "            secondServe_plusOne_netShot += 1\n",
        "\n",
        "    return secondServe_plusOne_netShot\n",
        "\n",
        "print(f\"{player_1} hit {secondServe_plusOne_netShot(point_df_eda, player_1)} second serve plus a net shot.\")"
      ],
      "metadata": {
        "colab": {
          "base_uri": "https://localhost:8080/"
        },
        "id": "q5B-eNFKngGD",
        "outputId": "224a3288-6b72-4c1b-c69d-60e1873bcc34"
      },
      "execution_count": 55,
      "outputs": [
        {
          "output_type": "stream",
          "name": "stdout",
          "text": [
            "Spencer Johnson hit 0 second serve plus a net shot.\n"
          ]
        }
      ]
    },
    {
      "cell_type": "code",
      "source": [
        "# Serve and volley percentage = 100 * total_serve_and_volley / total_serve - Jimmy\n",
        "def serve_and_volley_per(df, player):\n",
        "    total_serve_and_volley = firstServe_plusOne_netShot(df, player) + secondServe_plusOne_netShot(df, player)\n",
        "    return 100 * total_serve_and_volley / total_serve(df, player)\n",
        "\n",
        "print(f\"The serve and volley percentage for {player_1} is {serve_and_volley_per(point_df_eda, player_1):.2f}%.\")"
      ],
      "metadata": {
        "colab": {
          "base_uri": "https://localhost:8080/"
        },
        "id": "t2IL7zfynlN2",
        "outputId": "2ab3fac8-8a96-4bbc-e093-8584714fd513"
      },
      "execution_count": 56,
      "outputs": [
        {
          "output_type": "stream",
          "name": "stdout",
          "text": [
            "The serve and volley percentage for Spencer Johnson is 3.33%.\n"
          ]
        }
      ]
    },
    {
      "cell_type": "code",
      "source": [
        "# Serve and volley success percentage = 100 * total_points_won_serve_and_volley / total_points_won - Jimmy\n",
        "def serve_and_volley_success_per(df, player):\n",
        "    total_win_serve_and_volley = win_firstServe_plusOne_netShot(df, player) + win_secondServe_plusOne_netShot(df, player)\n",
        "    return 100 * total_win_serve_and_volley / total_points_won(df, player)\n",
        "\n",
        "print(f\"The serve and volley success percentage for {player_1} is {serve_and_volley_success_per(point_df_eda, player_1):.2f}%.\")"
      ],
      "metadata": {
        "colab": {
          "base_uri": "https://localhost:8080/"
        },
        "id": "X_XlO9EdnoWV",
        "outputId": "6a96fc1e-8789-4ee3-cbe4-26580b6ab472"
      },
      "execution_count": 57,
      "outputs": [
        {
          "output_type": "stream",
          "name": "stdout",
          "text": [
            "The serve and volley success percentage for Spencer Johnson is 1.85%.\n"
          ]
        }
      ]
    },
    {
      "cell_type": "code",
      "source": [
        "# serve and volley score = Serve and volley percentage * 0.5 + Serve and volley success percentage * 0.5 - Jimmy\n",
        "def serve_and_volley_score(df, player):\n",
        "    return serve_and_volley_per(df, player) * 0.5 + serve_and_volley_success_per(df, player)\n",
        "\n",
        "print(f\"The serve and volley score for {player_1} is {serve_and_volley_score(point_df_eda, player_1):.2f}.\")"
      ],
      "metadata": {
        "colab": {
          "base_uri": "https://localhost:8080/"
        },
        "id": "vieaVvYsntIv",
        "outputId": "27ad26c5-1a32-47cd-a7db-04e872881573"
      },
      "execution_count": 58,
      "outputs": [
        {
          "output_type": "stream",
          "name": "stdout",
          "text": [
            "The serve and volley score for Spencer Johnson is 3.52.\n"
          ]
        }
      ]
    },
    {
      "cell_type": "markdown",
      "source": [
        "# Finalize and Plot"
      ],
      "metadata": {
        "id": "u7lASfiQofLA"
      }
    },
    {
      "cell_type": "code",
      "source": [
        "player_1_bs_score = serve_quality_score(point_df_eda, player_1)\n",
        "player_1_sv_score = serve_and_volley_score(point_df_eda, player_1)\n",
        "player_2_bs_score = serve_quality_score(point_df_eda, player_2)\n",
        "player_2_sv_score = serve_and_volley_score(point_df_eda, player_2)\n",
        "\n",
        "# Add the new scores to the predictions for Player 1\n",
        "player_1_predictions[\"Big Server\"] = player_1_bs_score\n",
        "player_1_predictions[\"Serve and Volley\"] = player_1_sv_score\n",
        "\n",
        "# Add the new scores to the predictions for Player 2\n",
        "player_2_predictions[\"Big Server\"] = player_2_bs_score\n",
        "player_2_predictions[\"Serve and Volley\"] = player_2_sv_score\n",
        "\n",
        "# Display the updated dictionaries\n",
        "print(\"Player 1 Predictions:\", player_1_predictions)\n",
        "print(\"Player 2 Predictions:\", player_2_predictions)"
      ],
      "metadata": {
        "colab": {
          "base_uri": "https://localhost:8080/"
        },
        "id": "JnVA1X8JoHCY",
        "outputId": "fad0a035-9b08-41c6-a986-f7f68eccda0f"
      },
      "execution_count": 59,
      "outputs": [
        {
          "output_type": "stream",
          "name": "stdout",
          "text": [
            "Player 1 Predictions: {'Counter Puncher': 0.22590605009320533, 'Attacking Baseliner': -0.11051656030159678, 'All-Court Player': 0.9084532060530861, 'Solid Baseliner': -0.747131563111233, 'Big Server': 41.666666666666664, 'Serve and Volley': 3.5185185185185186}\n",
            "Player 2 Predictions: {'Counter Puncher': 0.19992805568631322, 'Attacking Baseliner': -0.13082237679098976, 'All-Court Player': 0.9308370816804711, 'Solid Baseliner': -0.7286751273363039, 'Big Server': 19.23076923076923, 'Serve and Volley': 0.0}\n"
          ]
        }
      ]
    },
    {
      "cell_type": "code",
      "source": [
        "# Extract labels and values\n",
        "labels = list(player_1_predictions.keys())\n",
        "values = list(player_1_predictions.values())\n",
        "\n",
        "# Close the circle by appending the first value\n",
        "values += values[:1]\n",
        "labels += labels[:1]\n",
        "\n",
        "# Create radar chart using Plotly\n",
        "fig = go.Figure()\n",
        "\n",
        "fig.add_trace(go.Scatterpolar(\n",
        "    r=values,\n",
        "    theta=labels,\n",
        "    fill='toself',\n",
        "    name=\"Player Profile\",\n",
        "    fillcolor='rgba(0, 0, 255, 0.2)',  # Blue fill with transparency\n",
        "    line=dict(color='blue')\n",
        "))\n",
        "\n",
        "# Customize layout\n",
        "fig.update_layout(\n",
        "    polar=dict(\n",
        "        radialaxis=dict(visible=True, range=[0, 100], tickangle=0),\n",
        "    ),\n",
        "    title=dict(\n",
        "        text=player_1,\n",
        "        x=0.5,\n",
        "        font=dict(size=18)\n",
        "    ),\n",
        "    showlegend=False\n",
        ")\n",
        "\n",
        "# Display the plot\n",
        "fig.show()"
      ],
      "metadata": {
        "colab": {
          "base_uri": "https://localhost:8080/",
          "height": 542
        },
        "id": "K_atJ74epC-3",
        "outputId": "a17acb9a-af12-41ef-da4d-fd723c590c9e"
      },
      "execution_count": 60,
      "outputs": [
        {
          "output_type": "display_data",
          "data": {
            "text/html": [
              "<html>\n",
              "<head><meta charset=\"utf-8\" /></head>\n",
              "<body>\n",
              "    <div>            <script src=\"https://cdnjs.cloudflare.com/ajax/libs/mathjax/2.7.5/MathJax.js?config=TeX-AMS-MML_SVG\"></script><script type=\"text/javascript\">if (window.MathJax && window.MathJax.Hub && window.MathJax.Hub.Config) {window.MathJax.Hub.Config({SVG: {font: \"STIX-Web\"}});}</script>                <script type=\"text/javascript\">window.PlotlyConfig = {MathJaxConfig: 'local'};</script>\n",
              "        <script charset=\"utf-8\" src=\"https://cdn.plot.ly/plotly-2.35.2.min.js\"></script>                <div id=\"05f3f6e6-e9d4-40e2-9aff-52956c9734d3\" class=\"plotly-graph-div\" style=\"height:525px; width:100%;\"></div>            <script type=\"text/javascript\">                                    window.PLOTLYENV=window.PLOTLYENV || {};                                    if (document.getElementById(\"05f3f6e6-e9d4-40e2-9aff-52956c9734d3\")) {                    Plotly.newPlot(                        \"05f3f6e6-e9d4-40e2-9aff-52956c9734d3\",                        [{\"fill\":\"toself\",\"fillcolor\":\"rgba(0, 0, 255, 0.2)\",\"line\":{\"color\":\"blue\"},\"name\":\"Player Profile\",\"r\":[0.22590605009320533,-0.11051656030159678,0.9084532060530861,-0.747131563111233,41.666666666666664,3.5185185185185186,0.22590605009320533],\"theta\":[\"Counter Puncher\",\"Attacking Baseliner\",\"All-Court Player\",\"Solid Baseliner\",\"Big Server\",\"Serve and Volley\",\"Counter Puncher\"],\"type\":\"scatterpolar\"}],                        {\"template\":{\"data\":{\"histogram2dcontour\":[{\"type\":\"histogram2dcontour\",\"colorbar\":{\"outlinewidth\":0,\"ticks\":\"\"},\"colorscale\":[[0.0,\"#0d0887\"],[0.1111111111111111,\"#46039f\"],[0.2222222222222222,\"#7201a8\"],[0.3333333333333333,\"#9c179e\"],[0.4444444444444444,\"#bd3786\"],[0.5555555555555556,\"#d8576b\"],[0.6666666666666666,\"#ed7953\"],[0.7777777777777778,\"#fb9f3a\"],[0.8888888888888888,\"#fdca26\"],[1.0,\"#f0f921\"]]}],\"choropleth\":[{\"type\":\"choropleth\",\"colorbar\":{\"outlinewidth\":0,\"ticks\":\"\"}}],\"histogram2d\":[{\"type\":\"histogram2d\",\"colorbar\":{\"outlinewidth\":0,\"ticks\":\"\"},\"colorscale\":[[0.0,\"#0d0887\"],[0.1111111111111111,\"#46039f\"],[0.2222222222222222,\"#7201a8\"],[0.3333333333333333,\"#9c179e\"],[0.4444444444444444,\"#bd3786\"],[0.5555555555555556,\"#d8576b\"],[0.6666666666666666,\"#ed7953\"],[0.7777777777777778,\"#fb9f3a\"],[0.8888888888888888,\"#fdca26\"],[1.0,\"#f0f921\"]]}],\"heatmap\":[{\"type\":\"heatmap\",\"colorbar\":{\"outlinewidth\":0,\"ticks\":\"\"},\"colorscale\":[[0.0,\"#0d0887\"],[0.1111111111111111,\"#46039f\"],[0.2222222222222222,\"#7201a8\"],[0.3333333333333333,\"#9c179e\"],[0.4444444444444444,\"#bd3786\"],[0.5555555555555556,\"#d8576b\"],[0.6666666666666666,\"#ed7953\"],[0.7777777777777778,\"#fb9f3a\"],[0.8888888888888888,\"#fdca26\"],[1.0,\"#f0f921\"]]}],\"heatmapgl\":[{\"type\":\"heatmapgl\",\"colorbar\":{\"outlinewidth\":0,\"ticks\":\"\"},\"colorscale\":[[0.0,\"#0d0887\"],[0.1111111111111111,\"#46039f\"],[0.2222222222222222,\"#7201a8\"],[0.3333333333333333,\"#9c179e\"],[0.4444444444444444,\"#bd3786\"],[0.5555555555555556,\"#d8576b\"],[0.6666666666666666,\"#ed7953\"],[0.7777777777777778,\"#fb9f3a\"],[0.8888888888888888,\"#fdca26\"],[1.0,\"#f0f921\"]]}],\"contourcarpet\":[{\"type\":\"contourcarpet\",\"colorbar\":{\"outlinewidth\":0,\"ticks\":\"\"}}],\"contour\":[{\"type\":\"contour\",\"colorbar\":{\"outlinewidth\":0,\"ticks\":\"\"},\"colorscale\":[[0.0,\"#0d0887\"],[0.1111111111111111,\"#46039f\"],[0.2222222222222222,\"#7201a8\"],[0.3333333333333333,\"#9c179e\"],[0.4444444444444444,\"#bd3786\"],[0.5555555555555556,\"#d8576b\"],[0.6666666666666666,\"#ed7953\"],[0.7777777777777778,\"#fb9f3a\"],[0.8888888888888888,\"#fdca26\"],[1.0,\"#f0f921\"]]}],\"surface\":[{\"type\":\"surface\",\"colorbar\":{\"outlinewidth\":0,\"ticks\":\"\"},\"colorscale\":[[0.0,\"#0d0887\"],[0.1111111111111111,\"#46039f\"],[0.2222222222222222,\"#7201a8\"],[0.3333333333333333,\"#9c179e\"],[0.4444444444444444,\"#bd3786\"],[0.5555555555555556,\"#d8576b\"],[0.6666666666666666,\"#ed7953\"],[0.7777777777777778,\"#fb9f3a\"],[0.8888888888888888,\"#fdca26\"],[1.0,\"#f0f921\"]]}],\"mesh3d\":[{\"type\":\"mesh3d\",\"colorbar\":{\"outlinewidth\":0,\"ticks\":\"\"}}],\"scatter\":[{\"fillpattern\":{\"fillmode\":\"overlay\",\"size\":10,\"solidity\":0.2},\"type\":\"scatter\"}],\"parcoords\":[{\"type\":\"parcoords\",\"line\":{\"colorbar\":{\"outlinewidth\":0,\"ticks\":\"\"}}}],\"scatterpolargl\":[{\"type\":\"scatterpolargl\",\"marker\":{\"colorbar\":{\"outlinewidth\":0,\"ticks\":\"\"}}}],\"bar\":[{\"error_x\":{\"color\":\"#2a3f5f\"},\"error_y\":{\"color\":\"#2a3f5f\"},\"marker\":{\"line\":{\"color\":\"#E5ECF6\",\"width\":0.5},\"pattern\":{\"fillmode\":\"overlay\",\"size\":10,\"solidity\":0.2}},\"type\":\"bar\"}],\"scattergeo\":[{\"type\":\"scattergeo\",\"marker\":{\"colorbar\":{\"outlinewidth\":0,\"ticks\":\"\"}}}],\"scatterpolar\":[{\"type\":\"scatterpolar\",\"marker\":{\"colorbar\":{\"outlinewidth\":0,\"ticks\":\"\"}}}],\"histogram\":[{\"marker\":{\"pattern\":{\"fillmode\":\"overlay\",\"size\":10,\"solidity\":0.2}},\"type\":\"histogram\"}],\"scattergl\":[{\"type\":\"scattergl\",\"marker\":{\"colorbar\":{\"outlinewidth\":0,\"ticks\":\"\"}}}],\"scatter3d\":[{\"type\":\"scatter3d\",\"line\":{\"colorbar\":{\"outlinewidth\":0,\"ticks\":\"\"}},\"marker\":{\"colorbar\":{\"outlinewidth\":0,\"ticks\":\"\"}}}],\"scattermapbox\":[{\"type\":\"scattermapbox\",\"marker\":{\"colorbar\":{\"outlinewidth\":0,\"ticks\":\"\"}}}],\"scatterternary\":[{\"type\":\"scatterternary\",\"marker\":{\"colorbar\":{\"outlinewidth\":0,\"ticks\":\"\"}}}],\"scattercarpet\":[{\"type\":\"scattercarpet\",\"marker\":{\"colorbar\":{\"outlinewidth\":0,\"ticks\":\"\"}}}],\"carpet\":[{\"aaxis\":{\"endlinecolor\":\"#2a3f5f\",\"gridcolor\":\"white\",\"linecolor\":\"white\",\"minorgridcolor\":\"white\",\"startlinecolor\":\"#2a3f5f\"},\"baxis\":{\"endlinecolor\":\"#2a3f5f\",\"gridcolor\":\"white\",\"linecolor\":\"white\",\"minorgridcolor\":\"white\",\"startlinecolor\":\"#2a3f5f\"},\"type\":\"carpet\"}],\"table\":[{\"cells\":{\"fill\":{\"color\":\"#EBF0F8\"},\"line\":{\"color\":\"white\"}},\"header\":{\"fill\":{\"color\":\"#C8D4E3\"},\"line\":{\"color\":\"white\"}},\"type\":\"table\"}],\"barpolar\":[{\"marker\":{\"line\":{\"color\":\"#E5ECF6\",\"width\":0.5},\"pattern\":{\"fillmode\":\"overlay\",\"size\":10,\"solidity\":0.2}},\"type\":\"barpolar\"}],\"pie\":[{\"automargin\":true,\"type\":\"pie\"}]},\"layout\":{\"autotypenumbers\":\"strict\",\"colorway\":[\"#636efa\",\"#EF553B\",\"#00cc96\",\"#ab63fa\",\"#FFA15A\",\"#19d3f3\",\"#FF6692\",\"#B6E880\",\"#FF97FF\",\"#FECB52\"],\"font\":{\"color\":\"#2a3f5f\"},\"hovermode\":\"closest\",\"hoverlabel\":{\"align\":\"left\"},\"paper_bgcolor\":\"white\",\"plot_bgcolor\":\"#E5ECF6\",\"polar\":{\"bgcolor\":\"#E5ECF6\",\"angularaxis\":{\"gridcolor\":\"white\",\"linecolor\":\"white\",\"ticks\":\"\"},\"radialaxis\":{\"gridcolor\":\"white\",\"linecolor\":\"white\",\"ticks\":\"\"}},\"ternary\":{\"bgcolor\":\"#E5ECF6\",\"aaxis\":{\"gridcolor\":\"white\",\"linecolor\":\"white\",\"ticks\":\"\"},\"baxis\":{\"gridcolor\":\"white\",\"linecolor\":\"white\",\"ticks\":\"\"},\"caxis\":{\"gridcolor\":\"white\",\"linecolor\":\"white\",\"ticks\":\"\"}},\"coloraxis\":{\"colorbar\":{\"outlinewidth\":0,\"ticks\":\"\"}},\"colorscale\":{\"sequential\":[[0.0,\"#0d0887\"],[0.1111111111111111,\"#46039f\"],[0.2222222222222222,\"#7201a8\"],[0.3333333333333333,\"#9c179e\"],[0.4444444444444444,\"#bd3786\"],[0.5555555555555556,\"#d8576b\"],[0.6666666666666666,\"#ed7953\"],[0.7777777777777778,\"#fb9f3a\"],[0.8888888888888888,\"#fdca26\"],[1.0,\"#f0f921\"]],\"sequentialminus\":[[0.0,\"#0d0887\"],[0.1111111111111111,\"#46039f\"],[0.2222222222222222,\"#7201a8\"],[0.3333333333333333,\"#9c179e\"],[0.4444444444444444,\"#bd3786\"],[0.5555555555555556,\"#d8576b\"],[0.6666666666666666,\"#ed7953\"],[0.7777777777777778,\"#fb9f3a\"],[0.8888888888888888,\"#fdca26\"],[1.0,\"#f0f921\"]],\"diverging\":[[0,\"#8e0152\"],[0.1,\"#c51b7d\"],[0.2,\"#de77ae\"],[0.3,\"#f1b6da\"],[0.4,\"#fde0ef\"],[0.5,\"#f7f7f7\"],[0.6,\"#e6f5d0\"],[0.7,\"#b8e186\"],[0.8,\"#7fbc41\"],[0.9,\"#4d9221\"],[1,\"#276419\"]]},\"xaxis\":{\"gridcolor\":\"white\",\"linecolor\":\"white\",\"ticks\":\"\",\"title\":{\"standoff\":15},\"zerolinecolor\":\"white\",\"automargin\":true,\"zerolinewidth\":2},\"yaxis\":{\"gridcolor\":\"white\",\"linecolor\":\"white\",\"ticks\":\"\",\"title\":{\"standoff\":15},\"zerolinecolor\":\"white\",\"automargin\":true,\"zerolinewidth\":2},\"scene\":{\"xaxis\":{\"backgroundcolor\":\"#E5ECF6\",\"gridcolor\":\"white\",\"linecolor\":\"white\",\"showbackground\":true,\"ticks\":\"\",\"zerolinecolor\":\"white\",\"gridwidth\":2},\"yaxis\":{\"backgroundcolor\":\"#E5ECF6\",\"gridcolor\":\"white\",\"linecolor\":\"white\",\"showbackground\":true,\"ticks\":\"\",\"zerolinecolor\":\"white\",\"gridwidth\":2},\"zaxis\":{\"backgroundcolor\":\"#E5ECF6\",\"gridcolor\":\"white\",\"linecolor\":\"white\",\"showbackground\":true,\"ticks\":\"\",\"zerolinecolor\":\"white\",\"gridwidth\":2}},\"shapedefaults\":{\"line\":{\"color\":\"#2a3f5f\"}},\"annotationdefaults\":{\"arrowcolor\":\"#2a3f5f\",\"arrowhead\":0,\"arrowwidth\":1},\"geo\":{\"bgcolor\":\"white\",\"landcolor\":\"#E5ECF6\",\"subunitcolor\":\"white\",\"showland\":true,\"showlakes\":true,\"lakecolor\":\"white\"},\"title\":{\"x\":0.05},\"mapbox\":{\"style\":\"light\"}}},\"polar\":{\"radialaxis\":{\"visible\":true,\"range\":[0,100],\"tickangle\":0}},\"title\":{\"font\":{\"size\":18},\"text\":\"Spencer Johnson\",\"x\":0.5},\"showlegend\":false},                        {\"responsive\": true}                    ).then(function(){\n",
              "                            \n",
              "var gd = document.getElementById('05f3f6e6-e9d4-40e2-9aff-52956c9734d3');\n",
              "var x = new MutationObserver(function (mutations, observer) {{\n",
              "        var display = window.getComputedStyle(gd).display;\n",
              "        if (!display || display === 'none') {{\n",
              "            console.log([gd, 'removed!']);\n",
              "            Plotly.purge(gd);\n",
              "            observer.disconnect();\n",
              "        }}\n",
              "}});\n",
              "\n",
              "// Listen for the removal of the full notebook cells\n",
              "var notebookContainer = gd.closest('#notebook-container');\n",
              "if (notebookContainer) {{\n",
              "    x.observe(notebookContainer, {childList: true});\n",
              "}}\n",
              "\n",
              "// Listen for the clearing of the current output cell\n",
              "var outputEl = gd.closest('.output');\n",
              "if (outputEl) {{\n",
              "    x.observe(outputEl, {childList: true});\n",
              "}}\n",
              "\n",
              "                        })                };                            </script>        </div>\n",
              "</body>\n",
              "</html>"
            ]
          },
          "metadata": {}
        }
      ]
    },
    {
      "cell_type": "code",
      "source": [
        "# Extract labels and values\n",
        "labels = list(player_2_predictions.keys())\n",
        "values = list(player_2_predictions.values())\n",
        "\n",
        "# Close the circle by appending the first value\n",
        "values += values[:1]\n",
        "labels += labels[:1]\n",
        "\n",
        "# Create radar chart using Plotly\n",
        "fig = go.Figure()\n",
        "\n",
        "fig.add_trace(go.Scatterpolar(\n",
        "    r=values,\n",
        "    theta=labels,\n",
        "    fill='toself',\n",
        "    name=\"Player Profile\",\n",
        "    fillcolor='rgba(0, 0, 255, 0.2)',  # Blue fill with transparency\n",
        "    line=dict(color='blue')\n",
        "))\n",
        "\n",
        "# Customize layout\n",
        "fig.update_layout(\n",
        "    polar=dict(\n",
        "        radialaxis=dict(visible=True, range=[0, 100], tickangle=0),\n",
        "    ),\n",
        "    title=dict(\n",
        "        text=player_2,\n",
        "        x=0.5,\n",
        "        font=dict(size=18)\n",
        "    ),\n",
        "    showlegend=False\n",
        ")\n",
        "\n",
        "# Display the plot\n",
        "fig.show()"
      ],
      "metadata": {
        "colab": {
          "base_uri": "https://localhost:8080/",
          "height": 542
        },
        "id": "PGbVfL-YpyTz",
        "outputId": "9c27467c-e46b-41be-a4d6-464e1b57dd78"
      },
      "execution_count": 61,
      "outputs": [
        {
          "output_type": "display_data",
          "data": {
            "text/html": [
              "<html>\n",
              "<head><meta charset=\"utf-8\" /></head>\n",
              "<body>\n",
              "    <div>            <script src=\"https://cdnjs.cloudflare.com/ajax/libs/mathjax/2.7.5/MathJax.js?config=TeX-AMS-MML_SVG\"></script><script type=\"text/javascript\">if (window.MathJax && window.MathJax.Hub && window.MathJax.Hub.Config) {window.MathJax.Hub.Config({SVG: {font: \"STIX-Web\"}});}</script>                <script type=\"text/javascript\">window.PlotlyConfig = {MathJaxConfig: 'local'};</script>\n",
              "        <script charset=\"utf-8\" src=\"https://cdn.plot.ly/plotly-2.35.2.min.js\"></script>                <div id=\"18e7cc18-1a62-4387-b36f-5076aa559cb2\" class=\"plotly-graph-div\" style=\"height:525px; width:100%;\"></div>            <script type=\"text/javascript\">                                    window.PLOTLYENV=window.PLOTLYENV || {};                                    if (document.getElementById(\"18e7cc18-1a62-4387-b36f-5076aa559cb2\")) {                    Plotly.newPlot(                        \"18e7cc18-1a62-4387-b36f-5076aa559cb2\",                        [{\"fill\":\"toself\",\"fillcolor\":\"rgba(0, 0, 255, 0.2)\",\"line\":{\"color\":\"blue\"},\"name\":\"Player Profile\",\"r\":[0.19992805568631322,-0.13082237679098976,0.9308370816804711,-0.7286751273363039,19.23076923076923,0.0,0.19992805568631322],\"theta\":[\"Counter Puncher\",\"Attacking Baseliner\",\"All-Court Player\",\"Solid Baseliner\",\"Big Server\",\"Serve and Volley\",\"Counter Puncher\"],\"type\":\"scatterpolar\"}],                        {\"template\":{\"data\":{\"histogram2dcontour\":[{\"type\":\"histogram2dcontour\",\"colorbar\":{\"outlinewidth\":0,\"ticks\":\"\"},\"colorscale\":[[0.0,\"#0d0887\"],[0.1111111111111111,\"#46039f\"],[0.2222222222222222,\"#7201a8\"],[0.3333333333333333,\"#9c179e\"],[0.4444444444444444,\"#bd3786\"],[0.5555555555555556,\"#d8576b\"],[0.6666666666666666,\"#ed7953\"],[0.7777777777777778,\"#fb9f3a\"],[0.8888888888888888,\"#fdca26\"],[1.0,\"#f0f921\"]]}],\"choropleth\":[{\"type\":\"choropleth\",\"colorbar\":{\"outlinewidth\":0,\"ticks\":\"\"}}],\"histogram2d\":[{\"type\":\"histogram2d\",\"colorbar\":{\"outlinewidth\":0,\"ticks\":\"\"},\"colorscale\":[[0.0,\"#0d0887\"],[0.1111111111111111,\"#46039f\"],[0.2222222222222222,\"#7201a8\"],[0.3333333333333333,\"#9c179e\"],[0.4444444444444444,\"#bd3786\"],[0.5555555555555556,\"#d8576b\"],[0.6666666666666666,\"#ed7953\"],[0.7777777777777778,\"#fb9f3a\"],[0.8888888888888888,\"#fdca26\"],[1.0,\"#f0f921\"]]}],\"heatmap\":[{\"type\":\"heatmap\",\"colorbar\":{\"outlinewidth\":0,\"ticks\":\"\"},\"colorscale\":[[0.0,\"#0d0887\"],[0.1111111111111111,\"#46039f\"],[0.2222222222222222,\"#7201a8\"],[0.3333333333333333,\"#9c179e\"],[0.4444444444444444,\"#bd3786\"],[0.5555555555555556,\"#d8576b\"],[0.6666666666666666,\"#ed7953\"],[0.7777777777777778,\"#fb9f3a\"],[0.8888888888888888,\"#fdca26\"],[1.0,\"#f0f921\"]]}],\"heatmapgl\":[{\"type\":\"heatmapgl\",\"colorbar\":{\"outlinewidth\":0,\"ticks\":\"\"},\"colorscale\":[[0.0,\"#0d0887\"],[0.1111111111111111,\"#46039f\"],[0.2222222222222222,\"#7201a8\"],[0.3333333333333333,\"#9c179e\"],[0.4444444444444444,\"#bd3786\"],[0.5555555555555556,\"#d8576b\"],[0.6666666666666666,\"#ed7953\"],[0.7777777777777778,\"#fb9f3a\"],[0.8888888888888888,\"#fdca26\"],[1.0,\"#f0f921\"]]}],\"contourcarpet\":[{\"type\":\"contourcarpet\",\"colorbar\":{\"outlinewidth\":0,\"ticks\":\"\"}}],\"contour\":[{\"type\":\"contour\",\"colorbar\":{\"outlinewidth\":0,\"ticks\":\"\"},\"colorscale\":[[0.0,\"#0d0887\"],[0.1111111111111111,\"#46039f\"],[0.2222222222222222,\"#7201a8\"],[0.3333333333333333,\"#9c179e\"],[0.4444444444444444,\"#bd3786\"],[0.5555555555555556,\"#d8576b\"],[0.6666666666666666,\"#ed7953\"],[0.7777777777777778,\"#fb9f3a\"],[0.8888888888888888,\"#fdca26\"],[1.0,\"#f0f921\"]]}],\"surface\":[{\"type\":\"surface\",\"colorbar\":{\"outlinewidth\":0,\"ticks\":\"\"},\"colorscale\":[[0.0,\"#0d0887\"],[0.1111111111111111,\"#46039f\"],[0.2222222222222222,\"#7201a8\"],[0.3333333333333333,\"#9c179e\"],[0.4444444444444444,\"#bd3786\"],[0.5555555555555556,\"#d8576b\"],[0.6666666666666666,\"#ed7953\"],[0.7777777777777778,\"#fb9f3a\"],[0.8888888888888888,\"#fdca26\"],[1.0,\"#f0f921\"]]}],\"mesh3d\":[{\"type\":\"mesh3d\",\"colorbar\":{\"outlinewidth\":0,\"ticks\":\"\"}}],\"scatter\":[{\"fillpattern\":{\"fillmode\":\"overlay\",\"size\":10,\"solidity\":0.2},\"type\":\"scatter\"}],\"parcoords\":[{\"type\":\"parcoords\",\"line\":{\"colorbar\":{\"outlinewidth\":0,\"ticks\":\"\"}}}],\"scatterpolargl\":[{\"type\":\"scatterpolargl\",\"marker\":{\"colorbar\":{\"outlinewidth\":0,\"ticks\":\"\"}}}],\"bar\":[{\"error_x\":{\"color\":\"#2a3f5f\"},\"error_y\":{\"color\":\"#2a3f5f\"},\"marker\":{\"line\":{\"color\":\"#E5ECF6\",\"width\":0.5},\"pattern\":{\"fillmode\":\"overlay\",\"size\":10,\"solidity\":0.2}},\"type\":\"bar\"}],\"scattergeo\":[{\"type\":\"scattergeo\",\"marker\":{\"colorbar\":{\"outlinewidth\":0,\"ticks\":\"\"}}}],\"scatterpolar\":[{\"type\":\"scatterpolar\",\"marker\":{\"colorbar\":{\"outlinewidth\":0,\"ticks\":\"\"}}}],\"histogram\":[{\"marker\":{\"pattern\":{\"fillmode\":\"overlay\",\"size\":10,\"solidity\":0.2}},\"type\":\"histogram\"}],\"scattergl\":[{\"type\":\"scattergl\",\"marker\":{\"colorbar\":{\"outlinewidth\":0,\"ticks\":\"\"}}}],\"scatter3d\":[{\"type\":\"scatter3d\",\"line\":{\"colorbar\":{\"outlinewidth\":0,\"ticks\":\"\"}},\"marker\":{\"colorbar\":{\"outlinewidth\":0,\"ticks\":\"\"}}}],\"scattermapbox\":[{\"type\":\"scattermapbox\",\"marker\":{\"colorbar\":{\"outlinewidth\":0,\"ticks\":\"\"}}}],\"scatterternary\":[{\"type\":\"scatterternary\",\"marker\":{\"colorbar\":{\"outlinewidth\":0,\"ticks\":\"\"}}}],\"scattercarpet\":[{\"type\":\"scattercarpet\",\"marker\":{\"colorbar\":{\"outlinewidth\":0,\"ticks\":\"\"}}}],\"carpet\":[{\"aaxis\":{\"endlinecolor\":\"#2a3f5f\",\"gridcolor\":\"white\",\"linecolor\":\"white\",\"minorgridcolor\":\"white\",\"startlinecolor\":\"#2a3f5f\"},\"baxis\":{\"endlinecolor\":\"#2a3f5f\",\"gridcolor\":\"white\",\"linecolor\":\"white\",\"minorgridcolor\":\"white\",\"startlinecolor\":\"#2a3f5f\"},\"type\":\"carpet\"}],\"table\":[{\"cells\":{\"fill\":{\"color\":\"#EBF0F8\"},\"line\":{\"color\":\"white\"}},\"header\":{\"fill\":{\"color\":\"#C8D4E3\"},\"line\":{\"color\":\"white\"}},\"type\":\"table\"}],\"barpolar\":[{\"marker\":{\"line\":{\"color\":\"#E5ECF6\",\"width\":0.5},\"pattern\":{\"fillmode\":\"overlay\",\"size\":10,\"solidity\":0.2}},\"type\":\"barpolar\"}],\"pie\":[{\"automargin\":true,\"type\":\"pie\"}]},\"layout\":{\"autotypenumbers\":\"strict\",\"colorway\":[\"#636efa\",\"#EF553B\",\"#00cc96\",\"#ab63fa\",\"#FFA15A\",\"#19d3f3\",\"#FF6692\",\"#B6E880\",\"#FF97FF\",\"#FECB52\"],\"font\":{\"color\":\"#2a3f5f\"},\"hovermode\":\"closest\",\"hoverlabel\":{\"align\":\"left\"},\"paper_bgcolor\":\"white\",\"plot_bgcolor\":\"#E5ECF6\",\"polar\":{\"bgcolor\":\"#E5ECF6\",\"angularaxis\":{\"gridcolor\":\"white\",\"linecolor\":\"white\",\"ticks\":\"\"},\"radialaxis\":{\"gridcolor\":\"white\",\"linecolor\":\"white\",\"ticks\":\"\"}},\"ternary\":{\"bgcolor\":\"#E5ECF6\",\"aaxis\":{\"gridcolor\":\"white\",\"linecolor\":\"white\",\"ticks\":\"\"},\"baxis\":{\"gridcolor\":\"white\",\"linecolor\":\"white\",\"ticks\":\"\"},\"caxis\":{\"gridcolor\":\"white\",\"linecolor\":\"white\",\"ticks\":\"\"}},\"coloraxis\":{\"colorbar\":{\"outlinewidth\":0,\"ticks\":\"\"}},\"colorscale\":{\"sequential\":[[0.0,\"#0d0887\"],[0.1111111111111111,\"#46039f\"],[0.2222222222222222,\"#7201a8\"],[0.3333333333333333,\"#9c179e\"],[0.4444444444444444,\"#bd3786\"],[0.5555555555555556,\"#d8576b\"],[0.6666666666666666,\"#ed7953\"],[0.7777777777777778,\"#fb9f3a\"],[0.8888888888888888,\"#fdca26\"],[1.0,\"#f0f921\"]],\"sequentialminus\":[[0.0,\"#0d0887\"],[0.1111111111111111,\"#46039f\"],[0.2222222222222222,\"#7201a8\"],[0.3333333333333333,\"#9c179e\"],[0.4444444444444444,\"#bd3786\"],[0.5555555555555556,\"#d8576b\"],[0.6666666666666666,\"#ed7953\"],[0.7777777777777778,\"#fb9f3a\"],[0.8888888888888888,\"#fdca26\"],[1.0,\"#f0f921\"]],\"diverging\":[[0,\"#8e0152\"],[0.1,\"#c51b7d\"],[0.2,\"#de77ae\"],[0.3,\"#f1b6da\"],[0.4,\"#fde0ef\"],[0.5,\"#f7f7f7\"],[0.6,\"#e6f5d0\"],[0.7,\"#b8e186\"],[0.8,\"#7fbc41\"],[0.9,\"#4d9221\"],[1,\"#276419\"]]},\"xaxis\":{\"gridcolor\":\"white\",\"linecolor\":\"white\",\"ticks\":\"\",\"title\":{\"standoff\":15},\"zerolinecolor\":\"white\",\"automargin\":true,\"zerolinewidth\":2},\"yaxis\":{\"gridcolor\":\"white\",\"linecolor\":\"white\",\"ticks\":\"\",\"title\":{\"standoff\":15},\"zerolinecolor\":\"white\",\"automargin\":true,\"zerolinewidth\":2},\"scene\":{\"xaxis\":{\"backgroundcolor\":\"#E5ECF6\",\"gridcolor\":\"white\",\"linecolor\":\"white\",\"showbackground\":true,\"ticks\":\"\",\"zerolinecolor\":\"white\",\"gridwidth\":2},\"yaxis\":{\"backgroundcolor\":\"#E5ECF6\",\"gridcolor\":\"white\",\"linecolor\":\"white\",\"showbackground\":true,\"ticks\":\"\",\"zerolinecolor\":\"white\",\"gridwidth\":2},\"zaxis\":{\"backgroundcolor\":\"#E5ECF6\",\"gridcolor\":\"white\",\"linecolor\":\"white\",\"showbackground\":true,\"ticks\":\"\",\"zerolinecolor\":\"white\",\"gridwidth\":2}},\"shapedefaults\":{\"line\":{\"color\":\"#2a3f5f\"}},\"annotationdefaults\":{\"arrowcolor\":\"#2a3f5f\",\"arrowhead\":0,\"arrowwidth\":1},\"geo\":{\"bgcolor\":\"white\",\"landcolor\":\"#E5ECF6\",\"subunitcolor\":\"white\",\"showland\":true,\"showlakes\":true,\"lakecolor\":\"white\"},\"title\":{\"x\":0.05},\"mapbox\":{\"style\":\"light\"}}},\"polar\":{\"radialaxis\":{\"visible\":true,\"range\":[0,100],\"tickangle\":0}},\"title\":{\"font\":{\"size\":18},\"text\":\"Gustaf Strom\",\"x\":0.5},\"showlegend\":false},                        {\"responsive\": true}                    ).then(function(){\n",
              "                            \n",
              "var gd = document.getElementById('18e7cc18-1a62-4387-b36f-5076aa559cb2');\n",
              "var x = new MutationObserver(function (mutations, observer) {{\n",
              "        var display = window.getComputedStyle(gd).display;\n",
              "        if (!display || display === 'none') {{\n",
              "            console.log([gd, 'removed!']);\n",
              "            Plotly.purge(gd);\n",
              "            observer.disconnect();\n",
              "        }}\n",
              "}});\n",
              "\n",
              "// Listen for the removal of the full notebook cells\n",
              "var notebookContainer = gd.closest('#notebook-container');\n",
              "if (notebookContainer) {{\n",
              "    x.observe(notebookContainer, {childList: true});\n",
              "}}\n",
              "\n",
              "// Listen for the clearing of the current output cell\n",
              "var outputEl = gd.closest('.output');\n",
              "if (outputEl) {{\n",
              "    x.observe(outputEl, {childList: true});\n",
              "}}\n",
              "\n",
              "                        })                };                            </script>        </div>\n",
              "</body>\n",
              "</html>"
            ]
          },
          "metadata": {}
        }
      ]
    },
    {
      "cell_type": "code",
      "source": [],
      "metadata": {
        "id": "0ud7HZIXBtmW"
      },
      "execution_count": 61,
      "outputs": []
    }
  ]
}